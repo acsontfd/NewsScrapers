{
  "nbformat": 4,
  "nbformat_minor": 0,
  "metadata": {
    "colab": {
      "provenance": [],
      "authorship_tag": "ABX9TyNYedTxUz5I7vpUbirrddVU",
      "include_colab_link": true
    },
    "kernelspec": {
      "name": "python3",
      "display_name": "Python 3"
    },
    "language_info": {
      "name": "python"
    }
  },
  "cells": [
    {
      "cell_type": "markdown",
      "metadata": {
        "id": "view-in-github",
        "colab_type": "text"
      },
      "source": [
        "<a href=\"https://colab.research.google.com/github/acsontfd/NewsScrapers/blob/main/assessment_CGT.ipynb\" target=\"_parent\"><img src=\"https://colab.research.google.com/assets/colab-badge.svg\" alt=\"Open In Colab\"/></a>"
      ]
    },
    {
      "cell_type": "code",
      "source": [
        "%pip install google-colab-selenium"
      ],
      "metadata": {
        "colab": {
          "base_uri": "https://localhost:8080/"
        },
        "collapsed": true,
        "id": "yUuyRmM5DO9j",
        "outputId": "38773550-1752-4f73-922a-a6501bbfda50"
      },
      "execution_count": 2,
      "outputs": [
        {
          "output_type": "stream",
          "name": "stdout",
          "text": [
            "Collecting google-colab-selenium\n",
            "  Downloading google_colab_selenium-1.0.14-py3-none-any.whl.metadata (2.7 kB)\n",
            "Collecting selenium (from google-colab-selenium)\n",
            "  Downloading selenium-4.29.0-py3-none-any.whl.metadata (7.1 kB)\n",
            "Requirement already satisfied: urllib3<3,>=1.26 in /usr/local/lib/python3.11/dist-packages (from urllib3[socks]<3,>=1.26->selenium->google-colab-selenium) (2.3.0)\n",
            "Collecting trio~=0.17 (from selenium->google-colab-selenium)\n",
            "  Downloading trio-0.29.0-py3-none-any.whl.metadata (8.5 kB)\n",
            "Collecting trio-websocket~=0.9 (from selenium->google-colab-selenium)\n",
            "  Downloading trio_websocket-0.12.2-py3-none-any.whl.metadata (5.1 kB)\n",
            "Requirement already satisfied: certifi>=2021.10.8 in /usr/local/lib/python3.11/dist-packages (from selenium->google-colab-selenium) (2025.1.31)\n",
            "Requirement already satisfied: typing_extensions~=4.9 in /usr/local/lib/python3.11/dist-packages (from selenium->google-colab-selenium) (4.12.2)\n",
            "Requirement already satisfied: websocket-client~=1.8 in /usr/local/lib/python3.11/dist-packages (from selenium->google-colab-selenium) (1.8.0)\n",
            "Requirement already satisfied: attrs>=23.2.0 in /usr/local/lib/python3.11/dist-packages (from trio~=0.17->selenium->google-colab-selenium) (25.1.0)\n",
            "Requirement already satisfied: sortedcontainers in /usr/local/lib/python3.11/dist-packages (from trio~=0.17->selenium->google-colab-selenium) (2.4.0)\n",
            "Requirement already satisfied: idna in /usr/local/lib/python3.11/dist-packages (from trio~=0.17->selenium->google-colab-selenium) (3.10)\n",
            "Collecting outcome (from trio~=0.17->selenium->google-colab-selenium)\n",
            "  Downloading outcome-1.3.0.post0-py2.py3-none-any.whl.metadata (2.6 kB)\n",
            "Requirement already satisfied: sniffio>=1.3.0 in /usr/local/lib/python3.11/dist-packages (from trio~=0.17->selenium->google-colab-selenium) (1.3.1)\n",
            "Collecting wsproto>=0.14 (from trio-websocket~=0.9->selenium->google-colab-selenium)\n",
            "  Downloading wsproto-1.2.0-py3-none-any.whl.metadata (5.6 kB)\n",
            "Requirement already satisfied: pysocks!=1.5.7,<2.0,>=1.5.6 in /usr/local/lib/python3.11/dist-packages (from urllib3[socks]<3,>=1.26->selenium->google-colab-selenium) (1.7.1)\n",
            "Requirement already satisfied: h11<1,>=0.9.0 in /usr/local/lib/python3.11/dist-packages (from wsproto>=0.14->trio-websocket~=0.9->selenium->google-colab-selenium) (0.14.0)\n",
            "Downloading google_colab_selenium-1.0.14-py3-none-any.whl (8.2 kB)\n",
            "Downloading selenium-4.29.0-py3-none-any.whl (9.5 MB)\n",
            "\u001b[2K   \u001b[90m━━━━━━━━━━━━━━━━━━━━━━━━━━━━━━━━━━━━━━━━\u001b[0m \u001b[32m9.5/9.5 MB\u001b[0m \u001b[31m13.0 MB/s\u001b[0m eta \u001b[36m0:00:00\u001b[0m\n",
            "\u001b[?25hDownloading trio-0.29.0-py3-none-any.whl (492 kB)\n",
            "\u001b[2K   \u001b[90m━━━━━━━━━━━━━━━━━━━━━━━━━━━━━━━━━━━━━━━━\u001b[0m \u001b[32m492.9/492.9 kB\u001b[0m \u001b[31m14.5 MB/s\u001b[0m eta \u001b[36m0:00:00\u001b[0m\n",
            "\u001b[?25hDownloading trio_websocket-0.12.2-py3-none-any.whl (21 kB)\n",
            "Downloading outcome-1.3.0.post0-py2.py3-none-any.whl (10 kB)\n",
            "Downloading wsproto-1.2.0-py3-none-any.whl (24 kB)\n",
            "Installing collected packages: wsproto, outcome, trio, trio-websocket, selenium, google-colab-selenium\n",
            "Successfully installed google-colab-selenium-1.0.14 outcome-1.3.0.post0 selenium-4.29.0 trio-0.29.0 trio-websocket-0.12.2 wsproto-1.2.0\n"
          ]
        }
      ]
    },
    {
      "cell_type": "code",
      "source": [
        "%pip install google-colab-selenium[undetected]"
      ],
      "metadata": {
        "colab": {
          "base_uri": "https://localhost:8080/"
        },
        "collapsed": true,
        "id": "NjyWlFDTEW6c",
        "outputId": "c5d7d9e7-d7a2-4c92-d164-f11f51665924"
      },
      "execution_count": 3,
      "outputs": [
        {
          "output_type": "stream",
          "name": "stdout",
          "text": [
            "Requirement already satisfied: google-colab-selenium[undetected] in /usr/local/lib/python3.11/dist-packages (1.0.14)\n",
            "Requirement already satisfied: selenium in /usr/local/lib/python3.11/dist-packages (from google-colab-selenium[undetected]) (4.29.0)\n",
            "Collecting undetected-chromedriver (from google-colab-selenium[undetected])\n",
            "  Downloading undetected-chromedriver-3.5.5.tar.gz (65 kB)\n",
            "\u001b[2K     \u001b[90m━━━━━━━━━━━━━━━━━━━━━━━━━━━━━━━━━━━━━━━━\u001b[0m \u001b[32m65.4/65.4 kB\u001b[0m \u001b[31m1.4 MB/s\u001b[0m eta \u001b[36m0:00:00\u001b[0m\n",
            "\u001b[?25h  Preparing metadata (setup.py) ... \u001b[?25l\u001b[?25hdone\n",
            "Requirement already satisfied: urllib3<3,>=1.26 in /usr/local/lib/python3.11/dist-packages (from urllib3[socks]<3,>=1.26->selenium->google-colab-selenium[undetected]) (2.3.0)\n",
            "Requirement already satisfied: trio~=0.17 in /usr/local/lib/python3.11/dist-packages (from selenium->google-colab-selenium[undetected]) (0.29.0)\n",
            "Requirement already satisfied: trio-websocket~=0.9 in /usr/local/lib/python3.11/dist-packages (from selenium->google-colab-selenium[undetected]) (0.12.2)\n",
            "Requirement already satisfied: certifi>=2021.10.8 in /usr/local/lib/python3.11/dist-packages (from selenium->google-colab-selenium[undetected]) (2025.1.31)\n",
            "Requirement already satisfied: typing_extensions~=4.9 in /usr/local/lib/python3.11/dist-packages (from selenium->google-colab-selenium[undetected]) (4.12.2)\n",
            "Requirement already satisfied: websocket-client~=1.8 in /usr/local/lib/python3.11/dist-packages (from selenium->google-colab-selenium[undetected]) (1.8.0)\n",
            "Requirement already satisfied: requests in /usr/local/lib/python3.11/dist-packages (from undetected-chromedriver->google-colab-selenium[undetected]) (2.32.3)\n",
            "Requirement already satisfied: websockets in /usr/local/lib/python3.11/dist-packages (from undetected-chromedriver->google-colab-selenium[undetected]) (14.2)\n",
            "Requirement already satisfied: attrs>=23.2.0 in /usr/local/lib/python3.11/dist-packages (from trio~=0.17->selenium->google-colab-selenium[undetected]) (25.1.0)\n",
            "Requirement already satisfied: sortedcontainers in /usr/local/lib/python3.11/dist-packages (from trio~=0.17->selenium->google-colab-selenium[undetected]) (2.4.0)\n",
            "Requirement already satisfied: idna in /usr/local/lib/python3.11/dist-packages (from trio~=0.17->selenium->google-colab-selenium[undetected]) (3.10)\n",
            "Requirement already satisfied: outcome in /usr/local/lib/python3.11/dist-packages (from trio~=0.17->selenium->google-colab-selenium[undetected]) (1.3.0.post0)\n",
            "Requirement already satisfied: sniffio>=1.3.0 in /usr/local/lib/python3.11/dist-packages (from trio~=0.17->selenium->google-colab-selenium[undetected]) (1.3.1)\n",
            "Requirement already satisfied: wsproto>=0.14 in /usr/local/lib/python3.11/dist-packages (from trio-websocket~=0.9->selenium->google-colab-selenium[undetected]) (1.2.0)\n",
            "Requirement already satisfied: pysocks!=1.5.7,<2.0,>=1.5.6 in /usr/local/lib/python3.11/dist-packages (from urllib3[socks]<3,>=1.26->selenium->google-colab-selenium[undetected]) (1.7.1)\n",
            "Requirement already satisfied: charset-normalizer<4,>=2 in /usr/local/lib/python3.11/dist-packages (from requests->undetected-chromedriver->google-colab-selenium[undetected]) (3.4.1)\n",
            "Requirement already satisfied: h11<1,>=0.9.0 in /usr/local/lib/python3.11/dist-packages (from wsproto>=0.14->trio-websocket~=0.9->selenium->google-colab-selenium[undetected]) (0.14.0)\n",
            "Building wheels for collected packages: undetected-chromedriver\n",
            "  Building wheel for undetected-chromedriver (setup.py) ... \u001b[?25l\u001b[?25hdone\n",
            "  Created wheel for undetected-chromedriver: filename=undetected_chromedriver-3.5.5-py3-none-any.whl size=47048 sha256=c0584156a1e9edb49b08b41dfcf6ff45a779cd2c77877ef082f77f892d49a43e\n",
            "  Stored in directory: /root/.cache/pip/wheels/5c/b9/03/4b6e38f019d6170e8c25df2e1e362d7bdf9ff4012df2dc85c0\n",
            "Successfully built undetected-chromedriver\n",
            "Installing collected packages: undetected-chromedriver\n",
            "Successfully installed undetected-chromedriver-3.5.5\n"
          ]
        }
      ]
    },
    {
      "cell_type": "code",
      "source": [
        "%pip install selenium webdriver-manager"
      ],
      "metadata": {
        "colab": {
          "base_uri": "https://localhost:8080/"
        },
        "id": "jIPlHKyRfD3n",
        "outputId": "435ec7fe-0c4f-4ec7-d611-0a51a5b11935"
      },
      "execution_count": 4,
      "outputs": [
        {
          "output_type": "stream",
          "name": "stdout",
          "text": [
            "Requirement already satisfied: selenium in /usr/local/lib/python3.11/dist-packages (4.29.0)\n",
            "Collecting webdriver-manager\n",
            "  Downloading webdriver_manager-4.0.2-py2.py3-none-any.whl.metadata (12 kB)\n",
            "Requirement already satisfied: urllib3<3,>=1.26 in /usr/local/lib/python3.11/dist-packages (from urllib3[socks]<3,>=1.26->selenium) (2.3.0)\n",
            "Requirement already satisfied: trio~=0.17 in /usr/local/lib/python3.11/dist-packages (from selenium) (0.29.0)\n",
            "Requirement already satisfied: trio-websocket~=0.9 in /usr/local/lib/python3.11/dist-packages (from selenium) (0.12.2)\n",
            "Requirement already satisfied: certifi>=2021.10.8 in /usr/local/lib/python3.11/dist-packages (from selenium) (2025.1.31)\n",
            "Requirement already satisfied: typing_extensions~=4.9 in /usr/local/lib/python3.11/dist-packages (from selenium) (4.12.2)\n",
            "Requirement already satisfied: websocket-client~=1.8 in /usr/local/lib/python3.11/dist-packages (from selenium) (1.8.0)\n",
            "Requirement already satisfied: requests in /usr/local/lib/python3.11/dist-packages (from webdriver-manager) (2.32.3)\n",
            "Collecting python-dotenv (from webdriver-manager)\n",
            "  Downloading python_dotenv-1.0.1-py3-none-any.whl.metadata (23 kB)\n",
            "Requirement already satisfied: packaging in /usr/local/lib/python3.11/dist-packages (from webdriver-manager) (24.2)\n",
            "Requirement already satisfied: attrs>=23.2.0 in /usr/local/lib/python3.11/dist-packages (from trio~=0.17->selenium) (25.1.0)\n",
            "Requirement already satisfied: sortedcontainers in /usr/local/lib/python3.11/dist-packages (from trio~=0.17->selenium) (2.4.0)\n",
            "Requirement already satisfied: idna in /usr/local/lib/python3.11/dist-packages (from trio~=0.17->selenium) (3.10)\n",
            "Requirement already satisfied: outcome in /usr/local/lib/python3.11/dist-packages (from trio~=0.17->selenium) (1.3.0.post0)\n",
            "Requirement already satisfied: sniffio>=1.3.0 in /usr/local/lib/python3.11/dist-packages (from trio~=0.17->selenium) (1.3.1)\n",
            "Requirement already satisfied: wsproto>=0.14 in /usr/local/lib/python3.11/dist-packages (from trio-websocket~=0.9->selenium) (1.2.0)\n",
            "Requirement already satisfied: pysocks!=1.5.7,<2.0,>=1.5.6 in /usr/local/lib/python3.11/dist-packages (from urllib3[socks]<3,>=1.26->selenium) (1.7.1)\n",
            "Requirement already satisfied: charset-normalizer<4,>=2 in /usr/local/lib/python3.11/dist-packages (from requests->webdriver-manager) (3.4.1)\n",
            "Requirement already satisfied: h11<1,>=0.9.0 in /usr/local/lib/python3.11/dist-packages (from wsproto>=0.14->trio-websocket~=0.9->selenium) (0.14.0)\n",
            "Downloading webdriver_manager-4.0.2-py2.py3-none-any.whl (27 kB)\n",
            "Downloading python_dotenv-1.0.1-py3-none-any.whl (19 kB)\n",
            "Installing collected packages: python-dotenv, webdriver-manager\n",
            "Successfully installed python-dotenv-1.0.1 webdriver-manager-4.0.2\n"
          ]
        }
      ]
    },
    {
      "cell_type": "code",
      "source": [
        "import time\n",
        "import requests\n",
        "import pandas as pd\n",
        "from selenium import webdriver\n",
        "from selenium.webdriver.common.by import By\n",
        "from selenium.webdriver.chrome.options import Options\n",
        "from selenium.webdriver.chrome.service import Service\n",
        "from selenium.webdriver.support.ui import WebDriverWait\n",
        "from selenium.webdriver.common.keys import Keys\n",
        "from selenium.webdriver.support import expected_conditions as EC\n",
        "from selenium.webdriver.common.action_chains import ActionChains\n",
        "from webdriver_manager.chrome import ChromeDriverManager\n",
        "from bs4 import BeautifulSoup\n",
        "import google_colab_selenium as gs\n",
        "from datetime import datetime, timedelta\n",
        "import re\n",
        "import matplotlib.pyplot as plt\n",
        "import matplotlib.pyplot as plt\n",
        "import seaborn as sns\n",
        "import sklearn\n",
        "from sklearn.feature_extraction.text import TfidfVectorizer\n",
        "\n",
        "\n",
        "\n",
        "driver = gs.Chrome()"
      ],
      "metadata": {
        "colab": {
          "base_uri": "https://localhost:8080/",
          "height": 80
        },
        "id": "JDwdJlJXDc1y",
        "outputId": "aa66ef68-6013-44fb-800f-4d6cd02b339f"
      },
      "execution_count": 5,
      "outputs": [
        {
          "output_type": "display_data",
          "data": {
            "text/plain": [
              "<IPython.core.display.HTML object>"
            ],
            "text/html": [
              "\n",
              "            <div class=\"spinner-container\">\n",
              "                <div class=\"spinner\" id=\"bedf47bb-62bc-4448-a832-0f046d9c6ff5-circle\"></div>\n",
              "                <div class=\"spinner-text\" id=\"bedf47bb-62bc-4448-a832-0f046d9c6ff5-text\">Updating and upgrading APT</div>\n",
              "            </div>\n",
              "            <style>\n",
              "                @keyframes spin {\n",
              "                    from { transform: rotate(0deg); }\n",
              "                    to { transform: rotate(360deg); }\n",
              "                }\n",
              "\n",
              "                .spinner-container {\n",
              "                    display: flex;\n",
              "                    align-items: center;\n",
              "                    margin-bottom: 3px;\n",
              "                }\n",
              "\n",
              "                .spinner {\n",
              "                    border: 3px solid rgba(0, 0, 0, 0.1);\n",
              "                    border-left-color: lightblue;\n",
              "                    border-radius: 50%;\n",
              "                    width: 12px;\n",
              "                    height: 12px;\n",
              "                    animation: spin 1s linear infinite;\n",
              "                }\n",
              "\n",
              "                .spinner-text {\n",
              "                    padding-left: 6px;\n",
              "                }\n",
              "            </style>\n",
              "        "
            ]
          },
          "metadata": {}
        },
        {
          "output_type": "display_data",
          "data": {
            "text/plain": [
              "<IPython.core.display.Javascript object>"
            ],
            "application/javascript": [
              "\n",
              "            const element = document.getElementById(\"bedf47bb-62bc-4448-a832-0f046d9c6ff5-circle\");\n",
              "            element.style.border = \"3px solid limegreen\";\n",
              "            element.style.animation = \"none\";\n",
              "\n",
              "            const text = document.getElementById(\"bedf47bb-62bc-4448-a832-0f046d9c6ff5-text\");\n",
              "            text.innerText = \"Updated and upgraded APT\";\n",
              "        "
            ]
          },
          "metadata": {}
        },
        {
          "output_type": "display_data",
          "data": {
            "text/plain": [
              "<IPython.core.display.HTML object>"
            ],
            "text/html": [
              "\n",
              "            <div class=\"spinner-container\">\n",
              "                <div class=\"spinner\" id=\"43ca8e32-ffac-4b2f-85d5-3551ab3b3c6a-circle\"></div>\n",
              "                <div class=\"spinner-text\" id=\"43ca8e32-ffac-4b2f-85d5-3551ab3b3c6a-text\">Downloading Google Chrome</div>\n",
              "            </div>\n",
              "            <style>\n",
              "                @keyframes spin {\n",
              "                    from { transform: rotate(0deg); }\n",
              "                    to { transform: rotate(360deg); }\n",
              "                }\n",
              "\n",
              "                .spinner-container {\n",
              "                    display: flex;\n",
              "                    align-items: center;\n",
              "                    margin-bottom: 3px;\n",
              "                }\n",
              "\n",
              "                .spinner {\n",
              "                    border: 3px solid rgba(0, 0, 0, 0.1);\n",
              "                    border-left-color: lightblue;\n",
              "                    border-radius: 50%;\n",
              "                    width: 12px;\n",
              "                    height: 12px;\n",
              "                    animation: spin 1s linear infinite;\n",
              "                }\n",
              "\n",
              "                .spinner-text {\n",
              "                    padding-left: 6px;\n",
              "                }\n",
              "            </style>\n",
              "        "
            ]
          },
          "metadata": {}
        },
        {
          "output_type": "display_data",
          "data": {
            "text/plain": [
              "<IPython.core.display.Javascript object>"
            ],
            "application/javascript": [
              "\n",
              "            const element = document.getElementById(\"43ca8e32-ffac-4b2f-85d5-3551ab3b3c6a-circle\");\n",
              "            element.style.border = \"3px solid limegreen\";\n",
              "            element.style.animation = \"none\";\n",
              "\n",
              "            const text = document.getElementById(\"43ca8e32-ffac-4b2f-85d5-3551ab3b3c6a-text\");\n",
              "            text.innerText = \"Downloaded Google Chrome\";\n",
              "        "
            ]
          },
          "metadata": {}
        },
        {
          "output_type": "display_data",
          "data": {
            "text/plain": [
              "<IPython.core.display.HTML object>"
            ],
            "text/html": [
              "\n",
              "            <div class=\"spinner-container\">\n",
              "                <div class=\"spinner\" id=\"48093ca2-1b9a-44e4-9831-1652980d6d2b-circle\"></div>\n",
              "                <div class=\"spinner-text\" id=\"48093ca2-1b9a-44e4-9831-1652980d6d2b-text\">Initializing Chromedriver</div>\n",
              "            </div>\n",
              "            <style>\n",
              "                @keyframes spin {\n",
              "                    from { transform: rotate(0deg); }\n",
              "                    to { transform: rotate(360deg); }\n",
              "                }\n",
              "\n",
              "                .spinner-container {\n",
              "                    display: flex;\n",
              "                    align-items: center;\n",
              "                    margin-bottom: 3px;\n",
              "                }\n",
              "\n",
              "                .spinner {\n",
              "                    border: 3px solid rgba(0, 0, 0, 0.1);\n",
              "                    border-left-color: lightblue;\n",
              "                    border-radius: 50%;\n",
              "                    width: 12px;\n",
              "                    height: 12px;\n",
              "                    animation: spin 1s linear infinite;\n",
              "                }\n",
              "\n",
              "                .spinner-text {\n",
              "                    padding-left: 6px;\n",
              "                }\n",
              "            </style>\n",
              "        "
            ]
          },
          "metadata": {}
        },
        {
          "output_type": "display_data",
          "data": {
            "text/plain": [
              "<IPython.core.display.Javascript object>"
            ],
            "application/javascript": [
              "\n",
              "            const element = document.getElementById(\"48093ca2-1b9a-44e4-9831-1652980d6d2b-circle\");\n",
              "            element.style.border = \"3px solid limegreen\";\n",
              "            element.style.animation = \"none\";\n",
              "\n",
              "            const text = document.getElementById(\"48093ca2-1b9a-44e4-9831-1652980d6d2b-text\");\n",
              "            text.innerText = \"Initialized Chromedriver\";\n",
              "        "
            ]
          },
          "metadata": {}
        }
      ]
    },
    {
      "cell_type": "code",
      "source": [
        "#Convert relative time (e.g. 4 mins ago)to actual date\n",
        "\n",
        "def get_published_date(relative_time):\n",
        "\n",
        "    now = datetime.now()\n",
        "\n",
        "    parts = relative_time.split()\n",
        "    if len(parts) < 2:\n",
        "        return now.strftime(\"%Y-%m-%d %H:%M\")  # Return current time if format is unknown\n",
        "\n",
        "    num, unit = int(parts[0]), parts[1]\n",
        "\n",
        "    # Convert different time formats\n",
        "    if \"minute\" in unit:\n",
        "        return (now - timedelta(minutes=num)).strftime(\"%Y-%m-%d %H:%M\")\n",
        "    elif \"hour\" in unit:\n",
        "        return (now - timedelta(hours=num)).strftime(\"%Y-%m-%d %H:%M\")\n",
        "    elif \"day\" in unit:\n",
        "        return (now - timedelta(days=num)).strftime(\"%Y-%m-%d\")\n",
        "    elif \"week\" in unit:\n",
        "        return (now - timedelta(weeks=num)).strftime(\"%Y-%m-%d\")\n",
        "\n",
        "    return now.strftime(\"%Y-%m-%d\")  # Default case"
      ],
      "metadata": {
        "id": "edcrtrh57a_i"
      },
      "execution_count": 6,
      "outputs": []
    },
    {
      "cell_type": "code",
      "source": [
        "# Regex to check if the extracted text follows a valid date format\n",
        "def is_valid_date(date_text):\n",
        "    date_pattern = r\"^\\d{1,2} [A-Za-z]+( \\d{4})?$\"  # Matches \"11 Feb\", \"23 February\", or \"17 December 2024\"\n",
        "    return bool(re.match(date_pattern, date_text))"
      ],
      "metadata": {
        "id": "PYB6XQNTIZtb"
      },
      "execution_count": 7,
      "outputs": []
    },
    {
      "cell_type": "markdown",
      "source": [
        "News Article Scraping\n"
      ],
      "metadata": {
        "id": "BJps9kbno_eK"
      }
    },
    {
      "cell_type": "code",
      "source": [
        "def bbc_articles():\n",
        "    BASE_URL = 'https://www.bbc.com/news'\n",
        "    response = requests.get(BASE_URL)\n",
        "\n",
        "    if response.status_code != 200:\n",
        "        print(f\"Failed to retrieve BBC news. Status code: {response.status_code}\")\n",
        "        return []\n",
        "\n",
        "    print(\"The response code is:\", response.status_code)\n",
        "\n",
        "    soup = BeautifulSoup(response.content, 'html.parser')\n",
        "\n",
        "    # Extract tab links\n",
        "    tabs = soup.select('nav a')  # Select all navigation links\n",
        "    tab_links = {tab.text.strip(): f\"https://www.bbc.com{tab['href']}\" for tab in tabs if tab.get('href') and '/news' in tab['href']}\n",
        "\n",
        "    articles_data = []\n",
        "\n",
        "    # Visit each tab and scrape articles\n",
        "    for category, url in tab_links.items():\n",
        "        print(f\"Scraping category: {category} - {url}\")\n",
        "        response = requests.get(url)\n",
        "        time.sleep(2)  # Prevent being blocked\n",
        "\n",
        "        if response.status_code != 200:\n",
        "            print(f\"Failed to retrieve {category} news.\")\n",
        "            continue\n",
        "\n",
        "        tab_soup = BeautifulSoup(response.content, 'html.parser')\n",
        "        headlines = tab_soup.find_all(\"h2\", {\"data-testid\": \"card-headline\"})\n",
        "        descriptions = tab_soup.find_all(\"p\", {\"data-testid\": \"card-description\"})\n",
        "        published_dates = tab_soup.find_all(\"span\", {\"data-testid\": \"card-metadata-lastupdated\"})\n",
        "\n",
        "        for i in range(len(headlines)):\n",
        "            title = headlines[i].text.strip()\n",
        "            description = descriptions[i].text.strip() if i < len(descriptions) else \"No description\"\n",
        "            relative_time = published_dates[i].text.strip() if i < len(published_dates) else \"No date\"\n",
        "\n",
        "            articles_data.append({\n",
        "                \"published_date\": relative_time,  # Needs date parsing function\n",
        "                \"headline\": title,\n",
        "                \"publisher\": \"BBC\",\n",
        "                \"article_content\": description,\n",
        "                \"category\": category  # Assign the category dynamically\n",
        "            })\n",
        "\n",
        "    print(f\"Total BBC articles scraped: {len(articles_data)}\")\n",
        "    return articles_data\n",
        "\n",
        "# Run function\n",
        "bbc_news = bbc_articles()"
      ],
      "metadata": {
        "colab": {
          "base_uri": "https://localhost:8080/"
        },
        "id": "PxjEHxdlYQfz",
        "outputId": "fae8686e-134b-4a41-967f-306c376bac4b"
      },
      "execution_count": 8,
      "outputs": [
        {
          "output_type": "stream",
          "name": "stdout",
          "text": [
            "The response code is: 200\n",
            "Scraping category: News - https://www.bbc.com/news\n",
            "Scraping category: Israel-Gaza War - https://www.bbc.com/news/topics/c2vdnvdg6xxt\n",
            "Scraping category: War in Ukraine - https://www.bbc.com/news/war-in-ukraine\n",
            "Scraping category: US & Canada - https://www.bbc.com/news/us-canada\n",
            "Scraping category: UK - https://www.bbc.com/news/uk\n",
            "Scraping category: Africa - https://www.bbc.com/news/world/africa\n",
            "Scraping category: Asia - https://www.bbc.com/news/world/asia\n",
            "Scraping category: Australia - https://www.bbc.com/news/world/australia\n",
            "Scraping category: Europe - https://www.bbc.com/news/world/europe\n",
            "Scraping category: Latin America - https://www.bbc.com/news/world/latin_america\n",
            "Scraping category: Middle East - https://www.bbc.com/news/world/middle_east\n",
            "Scraping category: In Pictures - https://www.bbc.com/news/in_pictures\n",
            "Scraping category: BBC InDepth - https://www.bbc.com/news/bbcindepth\n",
            "Scraping category: BBC Verify - https://www.bbc.com/news/bbcverify\n",
            "Total BBC articles scraped: 476\n"
          ]
        }
      ]
    },
    {
      "cell_type": "code",
      "source": [
        "df_bbc = pd.DataFrame(bbc_news)\n",
        "df_bbc.to_csv('bbc_news.csv', index=False)"
      ],
      "metadata": {
        "id": "DDHCEDlnq3LI"
      },
      "execution_count": 9,
      "outputs": []
    },
    {
      "cell_type": "code",
      "source": [
        "def bbc_sports_articles():\n",
        "    URL = 'https://www.bbc.com/sport'\n",
        "    response = requests.get(URL)\n",
        "\n",
        "    if response.status_code == 200:\n",
        "        print(\"The response code is:\", response.status_code)\n",
        "\n",
        "        soup = BeautifulSoup(response.content, 'html.parser')\n",
        "\n",
        "        articles_data = []\n",
        "        headlines = soup.find_all(\"p\", class_=\"ssrcss-1b1mki6-PromoHeadline\")  # Extract headlines\n",
        "        descriptions = soup.find_all(\"p\", {\"data-testid\": \"card-description\"})\n",
        "        published_dates = soup.find_all(\"span\", class_=\"ssrcss-1f39n02-VisuallyHidden\")  # Extract actual date\n",
        "\n",
        "        for i in range(len(headlines)):\n",
        "            title = headlines[i].text.strip()\n",
        "            description = descriptions[i].text.strip() if i < len(descriptions) else \"No description\"\n",
        "            extracted_date = published_dates[i].text.strip() if i < len(published_dates) else \"No date\"\n",
        "\n",
        "            # Process extracted date\n",
        "            if \"ago\" in extracted_date:\n",
        "                published_date = get_published_date(extracted_date)  # Convert relative time\n",
        "            elif is_valid_date(extracted_date):\n",
        "                try:\n",
        "                    # Convert absolute date to YYYY-MM-DD if year is present\n",
        "                    if len(extracted_date.split()) == 3:\n",
        "                        published_date = datetime.strptime(extracted_date, \"%d %B %Y\").strftime(\"%Y-%m-%d\")\n",
        "                    else:\n",
        "                        # Keep as-is for formats like \"23 February\"\n",
        "                        published_date = extracted_date\n",
        "                except ValueError:\n",
        "                    published_date = extracted_date  # If conversion fails, store as-is\n",
        "            else:\n",
        "                print(f\"Skipping invalid date: {extracted_date}\")\n",
        "                continue  # Skip if it's not a valid date\n",
        "\n",
        "            articles_data.append({\n",
        "                \"published_date\": published_date,\n",
        "                \"headline\": title,\n",
        "                \"publisher\": \"BBC\",\n",
        "                \"article_content\": description,\n",
        "                \"category\": \"Sports\"\n",
        "            })\n",
        "\n",
        "        print(f\"BBC Sports articles scraped: {len(articles_data)}\")\n",
        "        return articles_data\n",
        "    else:\n",
        "        print(f\"Failed to retrieve BBC Sports news. Status code: {response.status_code}\")\n",
        "        return []\n",
        "\n",
        "# Run function\n",
        "bbc_sports_news = bbc_sports_articles()"
      ],
      "metadata": {
        "colab": {
          "base_uri": "https://localhost:8080/"
        },
        "id": "z1PPCaDd9s6B",
        "outputId": "e2ed7009-377e-4b7e-b5f9-4c13f4a840cd"
      },
      "execution_count": 10,
      "outputs": [
        {
          "output_type": "stream",
          "name": "stdout",
          "text": [
            "The response code is: 200\n",
            "Skipping invalid date: BBC Homepage\n",
            "Skipping invalid date: More menu\n",
            "Skipping invalid date: More menu\n",
            "Skipping invalid date: Close menu\n",
            "Skipping invalid date: BBC Sport\n",
            "Skipping invalid date: Hojlund needs more confidence to start scoring  - Rooney. Video, 00:01:22\n",
            "Skipping invalid date: Five things to look out for at Australian Grand Prix. Video, 00:01:24\n",
            "Skipping invalid date: Fernandes a great example for other players – Amorim. Video, 00:00:35\n",
            "Skipping invalid date: Meet the British hopefuls aiming to reach the NFL. Video, 00:02:35\n",
            "Skipping invalid date: Arsenal not good enough in last 20 metres – Arteta. Video, 00:00:36\n",
            "Skipping invalid date: Watch: YouTuber MrBeast crashes Formula E car. Video, 00:00:30\n",
            "Skipping invalid date: Uncle Harry is 'the best supporter ever' - Lampard. Video, 00:02:01\n",
            "Skipping invalid date: Mourinho falls asleep during reporter's long question. Video, 00:00:34\n",
            "Skipping invalid date: Chelsea must finish in top four - Colwill. Video, 00:04:03\n",
            "Skipping invalid date: 'Arriving in red will be cool' - Hamilton's Melbourne excitement. Video, 00:01:12\n",
            "Skipping invalid date: Football Daily. Premier League Review with Darren Fletcher. Audio, 46 minutes\n",
            "Skipping invalid date: Test Match Special. Incredible India win Champions Trophy & Rob Key reacts to England’s woes. Audio, 55 minutes\n",
            "BBC Sports articles scraped: 54\n"
          ]
        }
      ]
    },
    {
      "cell_type": "code",
      "source": [
        "def bbc_business_articles():\n",
        "    URL = 'https://www.bbc.com/news/business'\n",
        "    response = requests.get(URL)\n",
        "\n",
        "    if response.status_code == 200:\n",
        "        print(\"The response code is:\", response.status_code)\n",
        "\n",
        "        soup = BeautifulSoup(response.content, 'html.parser')\n",
        "\n",
        "        articles_data = []\n",
        "        headlines = soup.find_all(\"h2\", {\"data-testid\": \"card-headline\"})\n",
        "        descriptions = soup.find_all(\"p\", {\"data-testid\": \"card-description\"})\n",
        "        published_dates = soup.find_all(\"span\", {\"data-testid\": \"card-metadata-lastupdated\"})\n",
        "\n",
        "        for i in range(len(headlines)):\n",
        "            title = headlines[i].text.strip()\n",
        "            description = descriptions[i].text.strip() if i < len(descriptions) else \"No description\"\n",
        "            relative_time = published_dates[i].text.strip() if i < len(published_dates) else \"No date\"\n",
        "\n",
        "            # Ensure relative_time is defined before using it\n",
        "            if \"ago\" in relative_time:\n",
        "                published_date = get_published_date(relative_time)\n",
        "            else:\n",
        "                published_date = relative_time  # Keep the original date if not relative\n",
        "\n",
        "            articles_data.append({\n",
        "                \"published_date\": published_date,\n",
        "                \"headline\": title,\n",
        "                \"publisher\": \"BBC\",\n",
        "                \"article_content\": description,\n",
        "                \"category\": \"Business\"\n",
        "            })\n",
        "\n",
        "        print(f\"BBC Business articles scraped: {len(articles_data)}\")\n",
        "        return articles_data\n",
        "    else:\n",
        "        print(f\"Failed to retrieve BBC Business news. Status code: {response.status_code}\")\n",
        "        return []\n",
        "\n",
        "# Run function\n",
        "bbc_business_news = bbc_business_articles()"
      ],
      "metadata": {
        "colab": {
          "base_uri": "https://localhost:8080/"
        },
        "id": "B9zLLW9XB3S2",
        "outputId": "449f0fcb-f815-41df-91c6-5b4c7b48e25c"
      },
      "execution_count": 11,
      "outputs": [
        {
          "output_type": "stream",
          "name": "stdout",
          "text": [
            "The response code is: 200\n",
            "BBC Business articles scraped: 42\n"
          ]
        }
      ]
    },
    {
      "cell_type": "code",
      "source": [
        "def scrape_thestar_nation():\n",
        "    URL = \"https://www.thestar.com.my/news/nation\"\n",
        "\n",
        "    # Set up Selenium WebDriver\n",
        "    options = webdriver.ChromeOptions()\n",
        "    options.add_argument(\"--headless\")  # Run in headless mode (optional)\n",
        "    options.add_argument(\"--no-sandbox\")\n",
        "    options.add_argument(\"--disable-dev-shm-usage\")\n",
        "\n",
        "    # Use webdriver_manager to install ChromeDriver automatically\n",
        "    driver = webdriver.Chrome(service=Service(ChromeDriverManager().install()), options=options)\n",
        "    driver.get(URL)\n",
        "    wait = WebDriverWait(driver, 10)\n",
        "\n",
        "    max_clicks = 10\n",
        "    click_count = 0\n",
        "\n",
        "    while click_count < max_clicks:\n",
        "        try:\n",
        "            # Scroll down to make the \"Load More\" button visible\n",
        "            driver.execute_script(\"window.scrollTo(0, document.body.scrollHeight);\")\n",
        "            time.sleep(1.5)\n",
        "\n",
        "            # Find and click the \"Load More\" button\n",
        "            load_more_button = wait.until(EC.element_to_be_clickable((By.ID, \"loadMorestories\")))\n",
        "            driver.execute_script(\"arguments[0].click();\", load_more_button)\n",
        "\n",
        "            click_count += 1\n",
        "            print(f\"Clicked Load More {click_count} time(s)...\")\n",
        "\n",
        "            # Wait for new articles to load\n",
        "            time.sleep(2)\n",
        "\n",
        "        except Exception:\n",
        "            print(\"No more articles to load or Load More button not found.\")\n",
        "            break  # Exit loop when no more articles\n",
        "\n",
        "    # Parse page source with BeautifulSoup\n",
        "    soup = BeautifulSoup(driver.page_source, \"html.parser\")\n",
        "\n",
        "    articles_data = []\n",
        "    news_items = soup.find_all(\"div\", class_=\"row list-listing\")  # Each news item\n",
        "\n",
        "    for item in news_items:\n",
        "        # Extract headline\n",
        "        headline_tag = item.find(\"h2\", class_=\"f18\")\n",
        "        headline = headline_tag.a.text.strip() if headline_tag and headline_tag.a else \"No headline\"\n",
        "\n",
        "        # Extract description\n",
        "        description_tag = item.find(\"p\", style=\"overflow-wrap: break-word;\")\n",
        "        description = description_tag.text.strip() if description_tag else \"No description\"\n",
        "\n",
        "        # Extract timestamp\n",
        "        timestamp_tag = item.find(\"label\", class_=\"timestamp\")\n",
        "        published_date = timestamp_tag.text.strip() if timestamp_tag else \"No date\"\n",
        "\n",
        "        # Convert relative timestamps like \"7m ago\"\n",
        "        if \"ago\" in published_date:\n",
        "            published_date = datetime.now().strftime(\"%Y-%m-%d\")\n",
        "\n",
        "        articles_data.append({\n",
        "            \"published_date\": published_date,\n",
        "            \"headline\": headline,\n",
        "            \"publisher\": \"The Star\",\n",
        "            \"article_content\": description,\n",
        "            \"category\": \"Nation\",\n",
        "        })\n",
        "\n",
        "    print(f\"Total articles scraped: {len(articles_data)}\")\n",
        "\n",
        "    # Close the browser\n",
        "    driver.quit()\n",
        "\n",
        "    return articles_data\n",
        "\n",
        "# Run scraper\n",
        "thestar_nation_news = scrape_thestar_nation()"
      ],
      "metadata": {
        "colab": {
          "base_uri": "https://localhost:8080/"
        },
        "id": "qD1qrfUotW-r",
        "outputId": "6f3be5d2-1508-4df9-ae4b-b9c48d27df59"
      },
      "execution_count": 12,
      "outputs": [
        {
          "output_type": "stream",
          "name": "stdout",
          "text": [
            "Clicked Load More 1 time(s)...\n",
            "Clicked Load More 2 time(s)...\n",
            "Clicked Load More 3 time(s)...\n",
            "Clicked Load More 4 time(s)...\n",
            "Clicked Load More 5 time(s)...\n",
            "Clicked Load More 6 time(s)...\n",
            "Clicked Load More 7 time(s)...\n",
            "Clicked Load More 8 time(s)...\n",
            "Clicked Load More 9 time(s)...\n",
            "Clicked Load More 10 time(s)...\n",
            "Total articles scraped: 110\n"
          ]
        }
      ]
    },
    {
      "cell_type": "code",
      "source": [
        "def scrape_thestar_business():\n",
        "    BASE_URL = \"https://www.thestar.com.my/news/latest?pgno=1&tag=Business#Latest\"\n",
        "\n",
        "    # Set up Selenium WebDriver\n",
        "    options = webdriver.ChromeOptions()\n",
        "    options.add_argument(\"--headless\")  # Run in headless mode (optional)\n",
        "    options.add_argument(\"--no-sandbox\")\n",
        "    options.add_argument(\"--disable-dev-shm-usage\")\n",
        "\n",
        "    driver = gs.Chrome (options=options)\n",
        "\n",
        "    max_pages = 8  # Scrape 8 pages\n",
        "    articles_data = []\n",
        "\n",
        "    for page_num in range(1, max_pages + 1):\n",
        "        current_url = BASE_URL.format(page_num)\n",
        "        print(f\"Scraping page {page_num}: {current_url}\")\n",
        "\n",
        "        driver.get(current_url)\n",
        "        time.sleep(5)  # Allow page to load\n",
        "\n",
        "        # Parse page source with BeautifulSoup\n",
        "        soup = BeautifulSoup(driver.page_source, \"html.parser\")\n",
        "\n",
        "        news_items = soup.find_all(\"li\", class_=\"row\")  # Each news item\n",
        "\n",
        "        for item in news_items:\n",
        "            # Extract headline\n",
        "            headline_tag = item.find(\"h2\", class_=\"f18\")\n",
        "            headline = headline_tag.a.text.strip() if headline_tag and headline_tag.a else \"No headline\"\n",
        "\n",
        "            # Extract description\n",
        "            description_tag = item.find(\"p\", style=\"overflow-wrap: break-word;\")\n",
        "            description = description_tag.text.strip() if description_tag else \"No description\"\n",
        "\n",
        "            # Extract timestamp\n",
        "            timestamp_tag = item.find(\"time\", class_=\"timestamp\")\n",
        "            published_date = timestamp_tag.text.strip() if timestamp_tag else \"No date\"\n",
        "\n",
        "            # Convert relative timestamps like \"7m ago\"\n",
        "            if \"ago\" in published_date:\n",
        "                published_date = datetime.now().strftime(\"%Y-%m-%d\")\n",
        "\n",
        "            articles_data.append({\n",
        "                \"published_date\": published_date,\n",
        "                \"headline\": headline,\n",
        "                \"publisher\": \"The Star\",\n",
        "                \"article_content\": description,\n",
        "                \"category\": \"Business\",\n",
        "            })\n",
        "\n",
        "    print(f\"Total articles scraped: {len(articles_data)}\")\n",
        "\n",
        "    # Close the browser\n",
        "    driver.quit()\n",
        "\n",
        "    return articles_data\n",
        "\n",
        "# Run scraper\n",
        "thestar_business_news = scrape_thestar_business()"
      ],
      "metadata": {
        "colab": {
          "base_uri": "https://localhost:8080/",
          "height": 199
        },
        "id": "jUy0zfOXCauG",
        "outputId": "d7c323f6-39ad-4dff-ee64-81f4cf4aa97b"
      },
      "execution_count": 25,
      "outputs": [
        {
          "output_type": "display_data",
          "data": {
            "text/plain": [
              "<IPython.core.display.HTML object>"
            ],
            "text/html": [
              "\n",
              "            <div class=\"spinner-container\">\n",
              "                <div class=\"spinner\" id=\"154fb3d1-89c8-4bb3-8e9f-df3ae140d6ed-circle\"></div>\n",
              "                <div class=\"spinner-text\" id=\"154fb3d1-89c8-4bb3-8e9f-df3ae140d6ed-text\">Initializing Chromedriver</div>\n",
              "            </div>\n",
              "            <style>\n",
              "                @keyframes spin {\n",
              "                    from { transform: rotate(0deg); }\n",
              "                    to { transform: rotate(360deg); }\n",
              "                }\n",
              "\n",
              "                .spinner-container {\n",
              "                    display: flex;\n",
              "                    align-items: center;\n",
              "                    margin-bottom: 3px;\n",
              "                }\n",
              "\n",
              "                .spinner {\n",
              "                    border: 3px solid rgba(0, 0, 0, 0.1);\n",
              "                    border-left-color: lightblue;\n",
              "                    border-radius: 50%;\n",
              "                    width: 12px;\n",
              "                    height: 12px;\n",
              "                    animation: spin 1s linear infinite;\n",
              "                }\n",
              "\n",
              "                .spinner-text {\n",
              "                    padding-left: 6px;\n",
              "                }\n",
              "            </style>\n",
              "        "
            ]
          },
          "metadata": {}
        },
        {
          "output_type": "display_data",
          "data": {
            "text/plain": [
              "<IPython.core.display.Javascript object>"
            ],
            "application/javascript": [
              "\n",
              "            const element = document.getElementById(\"154fb3d1-89c8-4bb3-8e9f-df3ae140d6ed-circle\");\n",
              "            element.style.border = \"3px solid limegreen\";\n",
              "            element.style.animation = \"none\";\n",
              "\n",
              "            const text = document.getElementById(\"154fb3d1-89c8-4bb3-8e9f-df3ae140d6ed-text\");\n",
              "            text.innerText = \"Initialized Chromedriver\";\n",
              "        "
            ]
          },
          "metadata": {}
        },
        {
          "output_type": "stream",
          "name": "stdout",
          "text": [
            "Scraping page 1: https://www.thestar.com.my/news/latest?pgno=1&tag=Business#Latest\n",
            "Scraping page 2: https://www.thestar.com.my/news/latest?pgno=1&tag=Business#Latest\n",
            "Scraping page 3: https://www.thestar.com.my/news/latest?pgno=1&tag=Business#Latest\n",
            "Scraping page 4: https://www.thestar.com.my/news/latest?pgno=1&tag=Business#Latest\n",
            "Scraping page 5: https://www.thestar.com.my/news/latest?pgno=1&tag=Business#Latest\n",
            "Scraping page 6: https://www.thestar.com.my/news/latest?pgno=1&tag=Business#Latest\n",
            "Scraping page 7: https://www.thestar.com.my/news/latest?pgno=1&tag=Business#Latest\n",
            "Scraping page 8: https://www.thestar.com.my/news/latest?pgno=1&tag=Business#Latest\n",
            "Total articles scraped: 160\n"
          ]
        }
      ]
    },
    {
      "cell_type": "code",
      "source": [
        "def scrape_nst_nation():\n",
        "    BASE_URL = \"https://www.nst.com.my/news/nation\"\n",
        "    max_pages = 8  # Total pages to scrape\n",
        "    articles_data = []\n",
        "\n",
        "    # Set up Selenium WebDriver\n",
        "    options = webdriver.ChromeOptions()\n",
        "    options.add_argument(\"--headless\")  # Run in headless mode\n",
        "    options.add_argument(\"--no-sandbox\")\n",
        "    options.add_argument(\"--disable-dev-shm-usage\")\n",
        "\n",
        "    driver = webdriver.Chrome(service=Service(ChromeDriverManager().install()), options=options)\n",
        "\n",
        "    for page in range(1, max_pages + 1):\n",
        "        URL = f\"{BASE_URL}?page={page}\"\n",
        "        print(f\"Scraping: {URL}\")\n",
        "        driver.get(URL)\n",
        "        time.sleep(5)  # Allow time for JS to load\n",
        "\n",
        "        soup = BeautifulSoup(driver.page_source, \"html.parser\")\n",
        "\n",
        "        # Locate all news articles\n",
        "        news_items = soup.find_all(\"div\", class_=\"col\")\n",
        "\n",
        "        if not news_items:\n",
        "            print(\"No more articles found. Stopping.\")\n",
        "            break  # Stop if no articles are found\n",
        "\n",
        "        for item in news_items:\n",
        "            # Extract headline\n",
        "            headline_tag = item.find(\"h6\", class_=\"field-title\")\n",
        "            headline = headline_tag.text.strip() if headline_tag else \"No headline\"\n",
        "\n",
        "            # Extract description/snippet\n",
        "            description_tag = item.find(\"div\", class_=\"d-block article-teaser\")\n",
        "            description = description_tag.text.strip() if description_tag else \"No description\"\n",
        "\n",
        "            # Extract timestamp\n",
        "            timestamp_tag = item.find(\"span\", class_=\"created-ago\")\n",
        "            published_date = timestamp_tag.text.strip() if timestamp_tag else \"No date\"\n",
        "\n",
        "            # Convert relative timestamps like \"7m ago\"\n",
        "            if \"ago\" in published_date:\n",
        "                published_date = datetime.now().strftime(\"%Y-%m-%d\")\n",
        "\n",
        "            articles_data.append({\n",
        "                \"published_date\": published_date,\n",
        "                \"headline\": headline,\n",
        "                \"publisher\": \"NST\",\n",
        "                \"article_content\": description,\n",
        "                \"category\": \"Nation\",\n",
        "            })\n",
        "\n",
        "        print(f\"Total articles scraped so far: {len(articles_data)}\")\n",
        "\n",
        "    driver.quit()\n",
        "    return articles_data\n",
        "\n",
        "# Run scraper\n",
        "nst_nation_news = scrape_nst_nation()"
      ],
      "metadata": {
        "id": "XKOaHRN7Wxtx",
        "colab": {
          "base_uri": "https://localhost:8080/"
        },
        "outputId": "7dc432c6-1df2-4cf4-bc11-42e44bebe5a9"
      },
      "execution_count": 19,
      "outputs": [
        {
          "output_type": "stream",
          "name": "stdout",
          "text": [
            "Scraping: https://www.nst.com.my/news/nation?page=1\n",
            "Total articles scraped so far: 21\n",
            "Scraping: https://www.nst.com.my/news/nation?page=2\n",
            "Total articles scraped so far: 42\n",
            "Scraping: https://www.nst.com.my/news/nation?page=3\n",
            "Total articles scraped so far: 63\n",
            "Scraping: https://www.nst.com.my/news/nation?page=4\n",
            "Total articles scraped so far: 84\n",
            "Scraping: https://www.nst.com.my/news/nation?page=5\n",
            "Total articles scraped so far: 105\n",
            "Scraping: https://www.nst.com.my/news/nation?page=6\n",
            "Total articles scraped so far: 126\n",
            "Scraping: https://www.nst.com.my/news/nation?page=7\n",
            "Total articles scraped so far: 147\n",
            "Scraping: https://www.nst.com.my/news/nation?page=8\n",
            "Total articles scraped so far: 168\n"
          ]
        }
      ]
    },
    {
      "cell_type": "code",
      "source": [
        "def scrape_alj_news():\n",
        "    BASE_URL = \"https://www.aljazeera.com/news/\"\n",
        "\n",
        "    # Set up Selenium WebDriver\n",
        "    options = webdriver.ChromeOptions()\n",
        "    options.add_argument(\"--headless\")  # Run in headless mode\n",
        "    options.add_argument(\"--no-sandbox\")\n",
        "    options.add_argument(\"--disable-dev-shm-usage\")\n",
        "\n",
        "    driver = gs.Chrome(options=options)\n",
        "    driver.get(BASE_URL)\n",
        "    time.sleep(3)  # Allow page to load\n",
        "\n",
        "    # Click \"Show More\" button 10 times\n",
        "    for i in range(10):\n",
        "        try:\n",
        "            show_more_button = driver.find_element(By.CLASS_NAME, \"show-more-button\")\n",
        "            driver.execute_script(\"arguments[0].click();\", show_more_button)\n",
        "            time.sleep(5)  # Wait for content to load\n",
        "            print(f\"Clicked 'Show More' button {i + 1} times\")\n",
        "        except NoSuchElementException:\n",
        "            print(\"No 'Show More' button found. Exiting loop.\")\n",
        "            break\n",
        "\n",
        "    # Parse the page source\n",
        "    soup = BeautifulSoup(driver.page_source, \"html.parser\")\n",
        "    driver.quit()\n",
        "\n",
        "    # Extract articles\n",
        "    articles = []\n",
        "    news_feed = soup.find(\"section\", id=\"news-feed-container\")\n",
        "    if news_feed:\n",
        "        news_items = news_feed.find_all(\"article\")\n",
        "        for item in news_items:\n",
        "            headline_tag = item.find(\"h3\", class_=\"gc__title\")\n",
        "            description_tag = item.find(\"p\")\n",
        "            date_tag = item.find(\"div\", class_=\"date-simple\")\n",
        "\n",
        "            published_date = date_tag.text.strip() if date_tag else \"No date\"\n",
        "            headline = headline_tag.text.strip() if headline_tag else \"No title\"\n",
        "            article_content = description_tag.text.strip() if description_tag else \"No content\"\n",
        "\n",
        "            articles.append({\n",
        "                \"published_date\": published_date,\n",
        "                \"headline\": headline,\n",
        "                \"publisher\": \"Al Jazeera\",\n",
        "                \"article_content\": article_content,\n",
        "                \"category\": \"General\",\n",
        "            })\n",
        "\n",
        "    print(f\"Total articles scraped: {len(articles)}\")\n",
        "    return articles\n",
        "\n",
        "# Run the scraper\n",
        "alj_news = scrape_alj_news()"
      ],
      "metadata": {
        "id": "WXwA1YLoTkH4",
        "colab": {
          "base_uri": "https://localhost:8080/",
          "height": 234
        },
        "outputId": "cbe1837f-b690-49e0-d908-3ff75445b297"
      },
      "execution_count": 20,
      "outputs": [
        {
          "output_type": "display_data",
          "data": {
            "text/plain": [
              "<IPython.core.display.HTML object>"
            ],
            "text/html": [
              "\n",
              "            <div class=\"spinner-container\">\n",
              "                <div class=\"spinner\" id=\"ee54f053-a854-4b35-8619-4f34ff62fbbf-circle\"></div>\n",
              "                <div class=\"spinner-text\" id=\"ee54f053-a854-4b35-8619-4f34ff62fbbf-text\">Initializing Chromedriver</div>\n",
              "            </div>\n",
              "            <style>\n",
              "                @keyframes spin {\n",
              "                    from { transform: rotate(0deg); }\n",
              "                    to { transform: rotate(360deg); }\n",
              "                }\n",
              "\n",
              "                .spinner-container {\n",
              "                    display: flex;\n",
              "                    align-items: center;\n",
              "                    margin-bottom: 3px;\n",
              "                }\n",
              "\n",
              "                .spinner {\n",
              "                    border: 3px solid rgba(0, 0, 0, 0.1);\n",
              "                    border-left-color: lightblue;\n",
              "                    border-radius: 50%;\n",
              "                    width: 12px;\n",
              "                    height: 12px;\n",
              "                    animation: spin 1s linear infinite;\n",
              "                }\n",
              "\n",
              "                .spinner-text {\n",
              "                    padding-left: 6px;\n",
              "                }\n",
              "            </style>\n",
              "        "
            ]
          },
          "metadata": {}
        },
        {
          "output_type": "display_data",
          "data": {
            "text/plain": [
              "<IPython.core.display.Javascript object>"
            ],
            "application/javascript": [
              "\n",
              "            const element = document.getElementById(\"ee54f053-a854-4b35-8619-4f34ff62fbbf-circle\");\n",
              "            element.style.border = \"3px solid limegreen\";\n",
              "            element.style.animation = \"none\";\n",
              "\n",
              "            const text = document.getElementById(\"ee54f053-a854-4b35-8619-4f34ff62fbbf-text\");\n",
              "            text.innerText = \"Initialized Chromedriver\";\n",
              "        "
            ]
          },
          "metadata": {}
        },
        {
          "output_type": "stream",
          "name": "stdout",
          "text": [
            "Clicked 'Show More' button 1 times\n",
            "Clicked 'Show More' button 2 times\n",
            "Clicked 'Show More' button 3 times\n",
            "Clicked 'Show More' button 4 times\n",
            "Clicked 'Show More' button 5 times\n",
            "Clicked 'Show More' button 6 times\n",
            "Clicked 'Show More' button 7 times\n",
            "Clicked 'Show More' button 8 times\n",
            "Clicked 'Show More' button 9 times\n",
            "Clicked 'Show More' button 10 times\n",
            "Total articles scraped: 110\n"
          ]
        }
      ]
    },
    {
      "cell_type": "code",
      "source": [
        "def scrape_aljazeera_sports():\n",
        "    BASE_URL = \"https://www.aljazeera.com/sports/\"\n",
        "\n",
        "    # Set up Selenium WebDriver\n",
        "    options = webdriver.ChromeOptions()\n",
        "    options.add_argument(\"--headless\")  # Run in headless mode\n",
        "    options.add_argument(\"--no-sandbox\")\n",
        "    options.add_argument(\"--disable-dev-shm-usage\")\n",
        "\n",
        "    driver = gs.Chrome(options=options)\n",
        "    driver.get(BASE_URL)\n",
        "    time.sleep(3)  # Allow page to load\n",
        "\n",
        "    # Click \"Show More\" button 10 times\n",
        "    for i in range(10):\n",
        "        try:\n",
        "            show_more_button = driver.find_element(By.CLASS_NAME, \"show-more-button\")\n",
        "            driver.execute_script(\"arguments[0].click();\", show_more_button)\n",
        "            time.sleep(3)  # Wait for content to load\n",
        "            print(f\"Clicked 'Show More' button {i + 1} times\")\n",
        "        except NoSuchElementException:\n",
        "            print(\"No 'Show More' button found. Exiting loop.\")\n",
        "            break\n",
        "\n",
        "    # Parse the page source\n",
        "    soup = BeautifulSoup(driver.page_source, \"html.parser\")\n",
        "    driver.quit()\n",
        "\n",
        "    # Extract articles\n",
        "    articles = []\n",
        "    news_feed = soup.find(\"section\", id=\"news-feed-container\")\n",
        "    if news_feed:\n",
        "        news_items = news_feed.find_all(\"article\")\n",
        "        for item in news_items:\n",
        "            headline_tag = item.find(\"h3\", class_=\"gc__title\")\n",
        "            description_tag = item.find(\"p\")\n",
        "            date_tag = item.find(\"div\", class_=\"date-simple\")\n",
        "\n",
        "            published_date = date_tag.text.strip() if date_tag else \"No date\"\n",
        "            headline = headline_tag.text.strip() if headline_tag else \"No title\"\n",
        "            article_content = description_tag.text.strip() if description_tag else \"No content\"\n",
        "\n",
        "            articles.append({\n",
        "                \"published_date\": published_date,\n",
        "                \"headline\": headline,\n",
        "                \"publisher\": \"Al Jazeera\",\n",
        "                \"article_content\": article_content,\n",
        "                \"category\": \"Sports\",\n",
        "            })\n",
        "\n",
        "    print(f\"Total articles scraped: {len(articles)}\")\n",
        "    return articles\n",
        "\n",
        "# Run the scraper\n",
        "sports_news = scrape_aljazeera_sports()"
      ],
      "metadata": {
        "id": "aMSL7JV8vzPF",
        "colab": {
          "base_uri": "https://localhost:8080/",
          "height": 234
        },
        "outputId": "60f8cb93-5a1f-40f4-a754-ffdd1ed28c8d"
      },
      "execution_count": 27,
      "outputs": [
        {
          "output_type": "display_data",
          "data": {
            "text/plain": [
              "<IPython.core.display.HTML object>"
            ],
            "text/html": [
              "\n",
              "            <div class=\"spinner-container\">\n",
              "                <div class=\"spinner\" id=\"de2dedea-dc00-43a8-bcab-0315cc3a841f-circle\"></div>\n",
              "                <div class=\"spinner-text\" id=\"de2dedea-dc00-43a8-bcab-0315cc3a841f-text\">Initializing Chromedriver</div>\n",
              "            </div>\n",
              "            <style>\n",
              "                @keyframes spin {\n",
              "                    from { transform: rotate(0deg); }\n",
              "                    to { transform: rotate(360deg); }\n",
              "                }\n",
              "\n",
              "                .spinner-container {\n",
              "                    display: flex;\n",
              "                    align-items: center;\n",
              "                    margin-bottom: 3px;\n",
              "                }\n",
              "\n",
              "                .spinner {\n",
              "                    border: 3px solid rgba(0, 0, 0, 0.1);\n",
              "                    border-left-color: lightblue;\n",
              "                    border-radius: 50%;\n",
              "                    width: 12px;\n",
              "                    height: 12px;\n",
              "                    animation: spin 1s linear infinite;\n",
              "                }\n",
              "\n",
              "                .spinner-text {\n",
              "                    padding-left: 6px;\n",
              "                }\n",
              "            </style>\n",
              "        "
            ]
          },
          "metadata": {}
        },
        {
          "output_type": "display_data",
          "data": {
            "text/plain": [
              "<IPython.core.display.Javascript object>"
            ],
            "application/javascript": [
              "\n",
              "            const element = document.getElementById(\"de2dedea-dc00-43a8-bcab-0315cc3a841f-circle\");\n",
              "            element.style.border = \"3px solid limegreen\";\n",
              "            element.style.animation = \"none\";\n",
              "\n",
              "            const text = document.getElementById(\"de2dedea-dc00-43a8-bcab-0315cc3a841f-text\");\n",
              "            text.innerText = \"Initialized Chromedriver\";\n",
              "        "
            ]
          },
          "metadata": {}
        },
        {
          "output_type": "stream",
          "name": "stdout",
          "text": [
            "Clicked 'Show More' button 1 times\n",
            "Clicked 'Show More' button 2 times\n",
            "Clicked 'Show More' button 3 times\n",
            "Clicked 'Show More' button 4 times\n",
            "Clicked 'Show More' button 5 times\n",
            "Clicked 'Show More' button 6 times\n",
            "Clicked 'Show More' button 7 times\n",
            "Clicked 'Show More' button 8 times\n",
            "Clicked 'Show More' button 9 times\n",
            "Clicked 'Show More' button 10 times\n",
            "Total articles scraped: 110\n"
          ]
        }
      ]
    },
    {
      "cell_type": "markdown",
      "source": [
        "Check data scraped before preprocessing"
      ],
      "metadata": {
        "id": "VCDF7orSITd6"
      }
    },
    {
      "cell_type": "code",
      "source": [
        "df_all = pd.DataFrame(\n",
        "    bbc_news\n",
        "    + bbc_sports_news\n",
        "    + bbc_business_news\n",
        "    + thestar_nation_news\n",
        "    + thestar_business_news\n",
        "    + nst_nation_news\n",
        "    + sports_news\n",
        "    + alj_news\n",
        ")\n",
        "\n",
        "df_all.to_csv(\"news_all.csv\", index=False)"
      ],
      "metadata": {
        "id": "sDxQw6kCIEy1"
      },
      "execution_count": 54,
      "outputs": []
    },
    {
      "cell_type": "code",
      "source": [
        "# Count articles by source\n",
        "print(df_all[\"publisher\"].value_counts())\n",
        "\n",
        "# Count articles by category\n",
        "print(df_all[\"category\"].value_counts())\n",
        "\n",
        "print(df_all.shape)"
      ],
      "metadata": {
        "colab": {
          "base_uri": "https://localhost:8080/"
        },
        "id": "lUC9cInEIqjg",
        "outputId": "1e141d0d-bb32-4b99-a9ca-b02a7b5594bc"
      },
      "execution_count": 57,
      "outputs": [
        {
          "output_type": "stream",
          "name": "stdout",
          "text": [
            "publisher\n",
            "BBC           572\n",
            "The Star      270\n",
            "Al Jazeera    220\n",
            "NST           168\n",
            "Name: count, dtype: int64\n",
            "category\n",
            "Nation             278\n",
            "Business           202\n",
            "Sports             164\n",
            "General            110\n",
            "News                61\n",
            "Africa              40\n",
            "BBC Verify          40\n",
            "UK                  37\n",
            "Israel-Gaza War     34\n",
            "US & Canada         34\n",
            "Europe              33\n",
            "Middle East         33\n",
            "War in Ukraine      29\n",
            "Asia                28\n",
            "Australia           28\n",
            "In Pictures         28\n",
            "Latin America       28\n",
            "BBC InDepth         23\n",
            "Name: count, dtype: int64\n",
            "(1230, 5)\n"
          ]
        }
      ]
    },
    {
      "cell_type": "markdown",
      "source": [
        "Data Preprocessing"
      ],
      "metadata": {
        "id": "aNK59RwLocj6"
      }
    },
    {
      "cell_type": "code",
      "source": [
        "# Function to extract and standardize date format\n",
        "def clean_date(published_date):\n",
        "    today = datetime.today()\n",
        "\n",
        "    # Convert relative dates like \"5 days ago\", \"4 hrs ago\", \"10 mins ago\"\n",
        "    relative_match = re.search(r\"(\\d+)\\s+(day|hour|hr|minute|min|second|sec)s?\\s+ago\", published_date, re.IGNORECASE)\n",
        "    if relative_match:\n",
        "        value, unit = int(relative_match.group(1)), relative_match.group(2).lower()\n",
        "        if unit in [\"day\", \"days\"]:\n",
        "            return (today - timedelta(days=value)).strftime(\"%Y-%m-%d\")\n",
        "        elif unit in [\"hour\", \"hr\", \"hours\", \"hrs\"]:\n",
        "            return (today - timedelta(hours=value)).strftime(\"%Y-%m-%d\")\n",
        "        elif unit in [\"minute\", \"min\", \"minutes\", \"mins\"]:\n",
        "            return (today - timedelta(minutes=value)).strftime(\"%Y-%m-%d\")\n",
        "        elif unit in [\"second\", \"sec\", \"seconds\", \"secs\"]:\n",
        "            return (today - timedelta(seconds=value)).strftime(\"%Y-%m-%d\")\n",
        "\n",
        "    # Match standard date formats like \"8 Mar 2025\" or \"Mar 8, 2025 @ 9:50am\"\n",
        "    standard_match = re.search(r\"(\\d{1,2} \\w{3} \\d{4})|(\\w{3} \\d{1,2}, \\d{4})\", published_date)\n",
        "    if standard_match:\n",
        "        extracted_date = standard_match.group(0)\n",
        "        try:\n",
        "            if \",\" in extracted_date:  # Format like \"Mar 8, 2025\"\n",
        "                return datetime.strptime(extracted_date, \"%b %d, %Y\").strftime(\"%Y-%m-%d\")\n",
        "            else:  # Format like \"8 Mar 2025\"\n",
        "                return datetime.strptime(extracted_date, \"%d %b %Y\").strftime(\"%Y-%m-%d\")\n",
        "        except ValueError:\n",
        "            return \"Invalid date\"\n",
        "\n",
        "    # Handle cases like \"11 February\" or \"March 5\" (without a year)\n",
        "    month_day_match = re.search(r\"(\\d{1,2}) (\\w+)\", published_date)\n",
        "    if month_day_match:\n",
        "        day, month = month_day_match.groups()\n",
        "        try:\n",
        "            parsed_date = datetime.strptime(f\"{day} {month} {today.year}\", \"%d %B %Y\")\n",
        "            if parsed_date > today:  # If date is in the future, assume last year\n",
        "                parsed_date = parsed_date.replace(year=today.year - 1)\n",
        "            return parsed_date.strftime(\"%Y-%m-%d\")\n",
        "        except ValueError:\n",
        "            return \"Invalid date\"\n",
        "\n",
        "    return published_date  # Return unchanged if no match found"
      ],
      "metadata": {
        "id": "UCI5b2l9kAQ8"
      },
      "execution_count": 51,
      "outputs": []
    },
    {
      "cell_type": "code",
      "source": [
        "# Function to remove rows with 'No date' or 'Invalid date'\n",
        "def null_date_remover(df):\n",
        "    df = df[~df[\"published_date\"].astype(str).str.lower().isin([\"no date\", \"invalid date\"])]\n",
        "    df = df.reset_index(drop=True)\n",
        "    return df"
      ],
      "metadata": {
        "id": "W68vghIZXNqZ"
      },
      "execution_count": 52,
      "outputs": []
    },
    {
      "cell_type": "code",
      "source": [
        "# Combine all scraped data into a DataFrame\n",
        "df_date = pd.DataFrame(\n",
        "    bbc_news\n",
        "    + bbc_sports_news\n",
        "    + bbc_business_news\n",
        "    + thestar_nation_news\n",
        "    + thestar_business_news\n",
        "    + nst_nation_news\n",
        "    + sports_news\n",
        "    + alj_news\n",
        ")\n",
        "\n",
        "# Apply function to clean 'published_date' column\n",
        "df_date[\"published_date\"] = df_date[\"published_date\"].apply(clean_date)\n",
        "\n",
        "# Remove invalid and missing dates\n",
        "df_date = null_date_remover(df_date)\n",
        "\n",
        "# Display cleaned DataFrame\n",
        "print(df_date.head())\n",
        "\n",
        "# Save to CSV\n",
        "df_date.to_csv(\"news_date.csv\", index=False)"
      ],
      "metadata": {
        "colab": {
          "base_uri": "https://localhost:8080/"
        },
        "id": "w7zLbFi0XJDM",
        "outputId": "6f4bbb92-a734-4963-d2ff-bd93731ca40e"
      },
      "execution_count": 53,
      "outputs": [
        {
          "output_type": "stream",
          "name": "stdout",
          "text": [
            "  published_date                                           headline publisher  \\\n",
            "0     2025-03-10  Jet fuel spills into North Sea after tanker co...       BBC   \n",
            "1     2025-03-10  US hopes to resolve Ukraine aid pause, Rubio s...       BBC   \n",
            "2     2025-03-10  Watch: Tropical storm erodes iconic Australian...       BBC   \n",
            "3     2025-03-10  Stocks slide as Trump warns of US economy 'tra...       BBC   \n",
            "4     2025-03-10  'There's never been a spotlight like this': Gr...       BBC   \n",
            "\n",
            "                                     article_content category  \n",
            "0  One person is in hospital, the local MP says, ...     News  \n",
            "1  The Ukrainian president has arrived in Saudi A...     News  \n",
            "2  Queensland's iconic Surfers Paradise beach loo...     News  \n",
            "3  New retaliatory tariffs from China targeting s...     News  \n",
            "4  Donald Trump's vow to take over Greenland has ...     News  \n"
          ]
        }
      ]
    },
    {
      "cell_type": "markdown",
      "source": [
        "EDA\n",
        "\n",
        "---\n",
        "\n",
        "\n",
        "Summary Statistics\n"
      ],
      "metadata": {
        "id": "JgkQ6GjAOzKt"
      }
    },
    {
      "cell_type": "code",
      "source": [
        "df_date.describe()"
      ],
      "metadata": {
        "colab": {
          "base_uri": "https://localhost:8080/",
          "height": 192
        },
        "id": "ge7UcYjdkkmq",
        "outputId": "4b48209c-f130-468c-f782-c48fe7b53936"
      },
      "execution_count": 32,
      "outputs": [
        {
          "output_type": "execute_result",
          "data": {
            "text/plain": [
              "       published_date                                           headline  \\\n",
              "count            1172                                               1172   \n",
              "unique             61                                                854   \n",
              "top        2025-03-10  Pecca, Shanghai Launch in strategic alliance t...   \n",
              "freq              504                                                  8   \n",
              "\n",
              "       publisher article_content category  \n",
              "count       1172            1172     1172  \n",
              "unique         4             723       18  \n",
              "top          BBC  No description   Nation  \n",
              "freq         514             132      278  "
            ],
            "text/html": [
              "\n",
              "  <div id=\"df-8a2c3a0b-dacc-429b-9bf5-498f8a3961f6\" class=\"colab-df-container\">\n",
              "    <div>\n",
              "<style scoped>\n",
              "    .dataframe tbody tr th:only-of-type {\n",
              "        vertical-align: middle;\n",
              "    }\n",
              "\n",
              "    .dataframe tbody tr th {\n",
              "        vertical-align: top;\n",
              "    }\n",
              "\n",
              "    .dataframe thead th {\n",
              "        text-align: right;\n",
              "    }\n",
              "</style>\n",
              "<table border=\"1\" class=\"dataframe\">\n",
              "  <thead>\n",
              "    <tr style=\"text-align: right;\">\n",
              "      <th></th>\n",
              "      <th>published_date</th>\n",
              "      <th>headline</th>\n",
              "      <th>publisher</th>\n",
              "      <th>article_content</th>\n",
              "      <th>category</th>\n",
              "    </tr>\n",
              "  </thead>\n",
              "  <tbody>\n",
              "    <tr>\n",
              "      <th>count</th>\n",
              "      <td>1172</td>\n",
              "      <td>1172</td>\n",
              "      <td>1172</td>\n",
              "      <td>1172</td>\n",
              "      <td>1172</td>\n",
              "    </tr>\n",
              "    <tr>\n",
              "      <th>unique</th>\n",
              "      <td>61</td>\n",
              "      <td>854</td>\n",
              "      <td>4</td>\n",
              "      <td>723</td>\n",
              "      <td>18</td>\n",
              "    </tr>\n",
              "    <tr>\n",
              "      <th>top</th>\n",
              "      <td>2025-03-10</td>\n",
              "      <td>Pecca, Shanghai Launch in strategic alliance t...</td>\n",
              "      <td>BBC</td>\n",
              "      <td>No description</td>\n",
              "      <td>Nation</td>\n",
              "    </tr>\n",
              "    <tr>\n",
              "      <th>freq</th>\n",
              "      <td>504</td>\n",
              "      <td>8</td>\n",
              "      <td>514</td>\n",
              "      <td>132</td>\n",
              "      <td>278</td>\n",
              "    </tr>\n",
              "  </tbody>\n",
              "</table>\n",
              "</div>\n",
              "    <div class=\"colab-df-buttons\">\n",
              "\n",
              "  <div class=\"colab-df-container\">\n",
              "    <button class=\"colab-df-convert\" onclick=\"convertToInteractive('df-8a2c3a0b-dacc-429b-9bf5-498f8a3961f6')\"\n",
              "            title=\"Convert this dataframe to an interactive table.\"\n",
              "            style=\"display:none;\">\n",
              "\n",
              "  <svg xmlns=\"http://www.w3.org/2000/svg\" height=\"24px\" viewBox=\"0 -960 960 960\">\n",
              "    <path d=\"M120-120v-720h720v720H120Zm60-500h600v-160H180v160Zm220 220h160v-160H400v160Zm0 220h160v-160H400v160ZM180-400h160v-160H180v160Zm440 0h160v-160H620v160ZM180-180h160v-160H180v160Zm440 0h160v-160H620v160Z\"/>\n",
              "  </svg>\n",
              "    </button>\n",
              "\n",
              "  <style>\n",
              "    .colab-df-container {\n",
              "      display:flex;\n",
              "      gap: 12px;\n",
              "    }\n",
              "\n",
              "    .colab-df-convert {\n",
              "      background-color: #E8F0FE;\n",
              "      border: none;\n",
              "      border-radius: 50%;\n",
              "      cursor: pointer;\n",
              "      display: none;\n",
              "      fill: #1967D2;\n",
              "      height: 32px;\n",
              "      padding: 0 0 0 0;\n",
              "      width: 32px;\n",
              "    }\n",
              "\n",
              "    .colab-df-convert:hover {\n",
              "      background-color: #E2EBFA;\n",
              "      box-shadow: 0px 1px 2px rgba(60, 64, 67, 0.3), 0px 1px 3px 1px rgba(60, 64, 67, 0.15);\n",
              "      fill: #174EA6;\n",
              "    }\n",
              "\n",
              "    .colab-df-buttons div {\n",
              "      margin-bottom: 4px;\n",
              "    }\n",
              "\n",
              "    [theme=dark] .colab-df-convert {\n",
              "      background-color: #3B4455;\n",
              "      fill: #D2E3FC;\n",
              "    }\n",
              "\n",
              "    [theme=dark] .colab-df-convert:hover {\n",
              "      background-color: #434B5C;\n",
              "      box-shadow: 0px 1px 3px 1px rgba(0, 0, 0, 0.15);\n",
              "      filter: drop-shadow(0px 1px 2px rgba(0, 0, 0, 0.3));\n",
              "      fill: #FFFFFF;\n",
              "    }\n",
              "  </style>\n",
              "\n",
              "    <script>\n",
              "      const buttonEl =\n",
              "        document.querySelector('#df-8a2c3a0b-dacc-429b-9bf5-498f8a3961f6 button.colab-df-convert');\n",
              "      buttonEl.style.display =\n",
              "        google.colab.kernel.accessAllowed ? 'block' : 'none';\n",
              "\n",
              "      async function convertToInteractive(key) {\n",
              "        const element = document.querySelector('#df-8a2c3a0b-dacc-429b-9bf5-498f8a3961f6');\n",
              "        const dataTable =\n",
              "          await google.colab.kernel.invokeFunction('convertToInteractive',\n",
              "                                                    [key], {});\n",
              "        if (!dataTable) return;\n",
              "\n",
              "        const docLinkHtml = 'Like what you see? Visit the ' +\n",
              "          '<a target=\"_blank\" href=https://colab.research.google.com/notebooks/data_table.ipynb>data table notebook</a>'\n",
              "          + ' to learn more about interactive tables.';\n",
              "        element.innerHTML = '';\n",
              "        dataTable['output_type'] = 'display_data';\n",
              "        await google.colab.output.renderOutput(dataTable, element);\n",
              "        const docLink = document.createElement('div');\n",
              "        docLink.innerHTML = docLinkHtml;\n",
              "        element.appendChild(docLink);\n",
              "      }\n",
              "    </script>\n",
              "  </div>\n",
              "\n",
              "\n",
              "<div id=\"df-c87bf8ec-0190-487e-9854-de97446e7096\">\n",
              "  <button class=\"colab-df-quickchart\" onclick=\"quickchart('df-c87bf8ec-0190-487e-9854-de97446e7096')\"\n",
              "            title=\"Suggest charts\"\n",
              "            style=\"display:none;\">\n",
              "\n",
              "<svg xmlns=\"http://www.w3.org/2000/svg\" height=\"24px\"viewBox=\"0 0 24 24\"\n",
              "     width=\"24px\">\n",
              "    <g>\n",
              "        <path d=\"M19 3H5c-1.1 0-2 .9-2 2v14c0 1.1.9 2 2 2h14c1.1 0 2-.9 2-2V5c0-1.1-.9-2-2-2zM9 17H7v-7h2v7zm4 0h-2V7h2v10zm4 0h-2v-4h2v4z\"/>\n",
              "    </g>\n",
              "</svg>\n",
              "  </button>\n",
              "\n",
              "<style>\n",
              "  .colab-df-quickchart {\n",
              "      --bg-color: #E8F0FE;\n",
              "      --fill-color: #1967D2;\n",
              "      --hover-bg-color: #E2EBFA;\n",
              "      --hover-fill-color: #174EA6;\n",
              "      --disabled-fill-color: #AAA;\n",
              "      --disabled-bg-color: #DDD;\n",
              "  }\n",
              "\n",
              "  [theme=dark] .colab-df-quickchart {\n",
              "      --bg-color: #3B4455;\n",
              "      --fill-color: #D2E3FC;\n",
              "      --hover-bg-color: #434B5C;\n",
              "      --hover-fill-color: #FFFFFF;\n",
              "      --disabled-bg-color: #3B4455;\n",
              "      --disabled-fill-color: #666;\n",
              "  }\n",
              "\n",
              "  .colab-df-quickchart {\n",
              "    background-color: var(--bg-color);\n",
              "    border: none;\n",
              "    border-radius: 50%;\n",
              "    cursor: pointer;\n",
              "    display: none;\n",
              "    fill: var(--fill-color);\n",
              "    height: 32px;\n",
              "    padding: 0;\n",
              "    width: 32px;\n",
              "  }\n",
              "\n",
              "  .colab-df-quickchart:hover {\n",
              "    background-color: var(--hover-bg-color);\n",
              "    box-shadow: 0 1px 2px rgba(60, 64, 67, 0.3), 0 1px 3px 1px rgba(60, 64, 67, 0.15);\n",
              "    fill: var(--button-hover-fill-color);\n",
              "  }\n",
              "\n",
              "  .colab-df-quickchart-complete:disabled,\n",
              "  .colab-df-quickchart-complete:disabled:hover {\n",
              "    background-color: var(--disabled-bg-color);\n",
              "    fill: var(--disabled-fill-color);\n",
              "    box-shadow: none;\n",
              "  }\n",
              "\n",
              "  .colab-df-spinner {\n",
              "    border: 2px solid var(--fill-color);\n",
              "    border-color: transparent;\n",
              "    border-bottom-color: var(--fill-color);\n",
              "    animation:\n",
              "      spin 1s steps(1) infinite;\n",
              "  }\n",
              "\n",
              "  @keyframes spin {\n",
              "    0% {\n",
              "      border-color: transparent;\n",
              "      border-bottom-color: var(--fill-color);\n",
              "      border-left-color: var(--fill-color);\n",
              "    }\n",
              "    20% {\n",
              "      border-color: transparent;\n",
              "      border-left-color: var(--fill-color);\n",
              "      border-top-color: var(--fill-color);\n",
              "    }\n",
              "    30% {\n",
              "      border-color: transparent;\n",
              "      border-left-color: var(--fill-color);\n",
              "      border-top-color: var(--fill-color);\n",
              "      border-right-color: var(--fill-color);\n",
              "    }\n",
              "    40% {\n",
              "      border-color: transparent;\n",
              "      border-right-color: var(--fill-color);\n",
              "      border-top-color: var(--fill-color);\n",
              "    }\n",
              "    60% {\n",
              "      border-color: transparent;\n",
              "      border-right-color: var(--fill-color);\n",
              "    }\n",
              "    80% {\n",
              "      border-color: transparent;\n",
              "      border-right-color: var(--fill-color);\n",
              "      border-bottom-color: var(--fill-color);\n",
              "    }\n",
              "    90% {\n",
              "      border-color: transparent;\n",
              "      border-bottom-color: var(--fill-color);\n",
              "    }\n",
              "  }\n",
              "</style>\n",
              "\n",
              "  <script>\n",
              "    async function quickchart(key) {\n",
              "      const quickchartButtonEl =\n",
              "        document.querySelector('#' + key + ' button');\n",
              "      quickchartButtonEl.disabled = true;  // To prevent multiple clicks.\n",
              "      quickchartButtonEl.classList.add('colab-df-spinner');\n",
              "      try {\n",
              "        const charts = await google.colab.kernel.invokeFunction(\n",
              "            'suggestCharts', [key], {});\n",
              "      } catch (error) {\n",
              "        console.error('Error during call to suggestCharts:', error);\n",
              "      }\n",
              "      quickchartButtonEl.classList.remove('colab-df-spinner');\n",
              "      quickchartButtonEl.classList.add('colab-df-quickchart-complete');\n",
              "    }\n",
              "    (() => {\n",
              "      let quickchartButtonEl =\n",
              "        document.querySelector('#df-c87bf8ec-0190-487e-9854-de97446e7096 button');\n",
              "      quickchartButtonEl.style.display =\n",
              "        google.colab.kernel.accessAllowed ? 'block' : 'none';\n",
              "    })();\n",
              "  </script>\n",
              "</div>\n",
              "\n",
              "    </div>\n",
              "  </div>\n"
            ],
            "application/vnd.google.colaboratory.intrinsic+json": {
              "type": "dataframe",
              "summary": "{\n  \"name\": \"df_date\",\n  \"rows\": 4,\n  \"fields\": [\n    {\n      \"column\": \"published_date\",\n      \"properties\": {\n        \"dtype\": \"date\",\n        \"min\": \"1970-01-01 00:00:00.000000061\",\n        \"max\": \"2025-03-10 00:00:00\",\n        \"num_unique_values\": 4,\n        \"samples\": [\n          61,\n          \"504\",\n          \"1172\"\n        ],\n        \"semantic_type\": \"\",\n        \"description\": \"\"\n      }\n    },\n    {\n      \"column\": \"headline\",\n      \"properties\": {\n        \"dtype\": \"string\",\n        \"num_unique_values\": 4,\n        \"samples\": [\n          854,\n          \"8\",\n          \"1172\"\n        ],\n        \"semantic_type\": \"\",\n        \"description\": \"\"\n      }\n    },\n    {\n      \"column\": \"publisher\",\n      \"properties\": {\n        \"dtype\": \"string\",\n        \"num_unique_values\": 4,\n        \"samples\": [\n          4,\n          \"514\",\n          \"1172\"\n        ],\n        \"semantic_type\": \"\",\n        \"description\": \"\"\n      }\n    },\n    {\n      \"column\": \"article_content\",\n      \"properties\": {\n        \"dtype\": \"string\",\n        \"num_unique_values\": 4,\n        \"samples\": [\n          723,\n          \"132\",\n          \"1172\"\n        ],\n        \"semantic_type\": \"\",\n        \"description\": \"\"\n      }\n    },\n    {\n      \"column\": \"category\",\n      \"properties\": {\n        \"dtype\": \"string\",\n        \"num_unique_values\": 4,\n        \"samples\": [\n          18,\n          \"278\",\n          \"1172\"\n        ],\n        \"semantic_type\": \"\",\n        \"description\": \"\"\n      }\n    }\n  ]\n}"
            }
          },
          "metadata": {},
          "execution_count": 32
        }
      ]
    },
    {
      "cell_type": "code",
      "source": [
        "df_date.isnull().sum()\n"
      ],
      "metadata": {
        "colab": {
          "base_uri": "https://localhost:8080/",
          "height": 241
        },
        "id": "vc2HAx7eOGbx",
        "outputId": "5fdf9eab-5eff-47bb-f02b-2cd03f762c97"
      },
      "execution_count": 33,
      "outputs": [
        {
          "output_type": "execute_result",
          "data": {
            "text/plain": [
              "published_date     0\n",
              "headline           0\n",
              "publisher          0\n",
              "article_content    0\n",
              "category           0\n",
              "dtype: int64"
            ],
            "text/html": [
              "<div>\n",
              "<style scoped>\n",
              "    .dataframe tbody tr th:only-of-type {\n",
              "        vertical-align: middle;\n",
              "    }\n",
              "\n",
              "    .dataframe tbody tr th {\n",
              "        vertical-align: top;\n",
              "    }\n",
              "\n",
              "    .dataframe thead th {\n",
              "        text-align: right;\n",
              "    }\n",
              "</style>\n",
              "<table border=\"1\" class=\"dataframe\">\n",
              "  <thead>\n",
              "    <tr style=\"text-align: right;\">\n",
              "      <th></th>\n",
              "      <th>0</th>\n",
              "    </tr>\n",
              "  </thead>\n",
              "  <tbody>\n",
              "    <tr>\n",
              "      <th>published_date</th>\n",
              "      <td>0</td>\n",
              "    </tr>\n",
              "    <tr>\n",
              "      <th>headline</th>\n",
              "      <td>0</td>\n",
              "    </tr>\n",
              "    <tr>\n",
              "      <th>publisher</th>\n",
              "      <td>0</td>\n",
              "    </tr>\n",
              "    <tr>\n",
              "      <th>article_content</th>\n",
              "      <td>0</td>\n",
              "    </tr>\n",
              "    <tr>\n",
              "      <th>category</th>\n",
              "      <td>0</td>\n",
              "    </tr>\n",
              "  </tbody>\n",
              "</table>\n",
              "</div><br><label><b>dtype:</b> int64</label>"
            ]
          },
          "metadata": {},
          "execution_count": 33
        }
      ]
    },
    {
      "cell_type": "code",
      "source": [
        "df_date.nunique()"
      ],
      "metadata": {
        "colab": {
          "base_uri": "https://localhost:8080/",
          "height": 241
        },
        "id": "0CQjs8Y2OJJP",
        "outputId": "68e93acb-10d8-4a22-be76-d96e27834bb1"
      },
      "execution_count": 34,
      "outputs": [
        {
          "output_type": "execute_result",
          "data": {
            "text/plain": [
              "published_date      61\n",
              "headline           854\n",
              "publisher            4\n",
              "article_content    723\n",
              "category            18\n",
              "dtype: int64"
            ],
            "text/html": [
              "<div>\n",
              "<style scoped>\n",
              "    .dataframe tbody tr th:only-of-type {\n",
              "        vertical-align: middle;\n",
              "    }\n",
              "\n",
              "    .dataframe tbody tr th {\n",
              "        vertical-align: top;\n",
              "    }\n",
              "\n",
              "    .dataframe thead th {\n",
              "        text-align: right;\n",
              "    }\n",
              "</style>\n",
              "<table border=\"1\" class=\"dataframe\">\n",
              "  <thead>\n",
              "    <tr style=\"text-align: right;\">\n",
              "      <th></th>\n",
              "      <th>0</th>\n",
              "    </tr>\n",
              "  </thead>\n",
              "  <tbody>\n",
              "    <tr>\n",
              "      <th>published_date</th>\n",
              "      <td>61</td>\n",
              "    </tr>\n",
              "    <tr>\n",
              "      <th>headline</th>\n",
              "      <td>854</td>\n",
              "    </tr>\n",
              "    <tr>\n",
              "      <th>publisher</th>\n",
              "      <td>4</td>\n",
              "    </tr>\n",
              "    <tr>\n",
              "      <th>article_content</th>\n",
              "      <td>723</td>\n",
              "    </tr>\n",
              "    <tr>\n",
              "      <th>category</th>\n",
              "      <td>18</td>\n",
              "    </tr>\n",
              "  </tbody>\n",
              "</table>\n",
              "</div><br><label><b>dtype:</b> int64</label>"
            ]
          },
          "metadata": {},
          "execution_count": 34
        }
      ]
    },
    {
      "cell_type": "markdown",
      "source": [
        "Data Distribution Analysis"
      ],
      "metadata": {
        "id": "RuNrY3NJQEID"
      }
    },
    {
      "cell_type": "code",
      "source": [
        "# Count articles by source\n",
        "print(df_date[\"publisher\"].value_counts())\n",
        "\n",
        "# Count articles by category\n",
        "print(df_date[\"category\"].value_counts())\n",
        "\n",
        "plt.figure(figsize=(10, 5))\n",
        "sns.countplot(y=df_date[\"publisher\"], order=df_date[\"publisher\"].value_counts().index, palette=\"viridis\")\n",
        "plt.title(\"Number of Articles per Publisher\")\n",
        "plt.xlabel(\"Count\")\n",
        "plt.ylabel(\"Publisher\")\n",
        "plt.show()"
      ],
      "metadata": {
        "colab": {
          "base_uri": "https://localhost:8080/",
          "height": 996
        },
        "id": "K8OSG2ktOSvX",
        "outputId": "ffb80788-3490-45e8-df68-323ce9c21ad8"
      },
      "execution_count": 35,
      "outputs": [
        {
          "output_type": "stream",
          "name": "stdout",
          "text": [
            "publisher\n",
            "BBC           514\n",
            "The Star      270\n",
            "Al Jazeera    220\n",
            "NST           168\n",
            "Name: count, dtype: int64\n",
            "category\n",
            "Nation             278\n",
            "Business           202\n",
            "Sports             126\n",
            "General            110\n",
            "News                42\n",
            "Africa              40\n",
            "BBC Verify          40\n",
            "UK                  37\n",
            "Israel-Gaza War     34\n",
            "US & Canada         34\n",
            "Europe              33\n",
            "Middle East         33\n",
            "War in Ukraine      29\n",
            "Asia                28\n",
            "Australia           28\n",
            "In Pictures         28\n",
            "Latin America       28\n",
            "BBC InDepth         22\n",
            "Name: count, dtype: int64\n"
          ]
        },
        {
          "output_type": "stream",
          "name": "stderr",
          "text": [
            "<ipython-input-35-e6e262550cc8>:8: FutureWarning: \n",
            "\n",
            "Passing `palette` without assigning `hue` is deprecated and will be removed in v0.14.0. Assign the `y` variable to `hue` and set `legend=False` for the same effect.\n",
            "\n",
            "  sns.countplot(y=df_date[\"publisher\"], order=df_date[\"publisher\"].value_counts().index, palette=\"viridis\")\n"
          ]
        },
        {
          "output_type": "display_data",
          "data": {
            "text/plain": [
              "<Figure size 1000x500 with 1 Axes>"
            ],
            "image/png": "[encoded data removed]"
          },
          "metadata": {}
        }
      ]
    },
    {
      "cell_type": "code",
      "source": [
        "# Convert published_date to datetime\n",
        "df_date[\"published_date\"] = pd.to_datetime(df_date[\"published_date\"], errors=\"coerce\")\n",
        "\n",
        "# Check the earliest and latest dates\n",
        "print(\"Earliest article date:\", df_date[\"published_date\"].min())\n",
        "print(\"Latest article date:\", df_date[\"published_date\"].max())\n",
        "\n",
        "# Count articles per day\n",
        "df_date[\"published_date\"].value_counts().sort_index().plot(\n",
        "    figsize=(12, 5), kind=\"line\", marker=\"o\", title=\"News Articles Over Time\"\n",
        ")\n",
        "plt.xlabel(\"Date\")\n",
        "plt.ylabel(\"Number of Articles\")\n",
        "plt.show()"
      ],
      "metadata": {
        "colab": {
          "base_uri": "https://localhost:8080/",
          "height": 399
        },
        "id": "z0aosbymPufc",
        "outputId": "5541e532-99c7-46fd-81b7-f6a268c6f8bb"
      },
      "execution_count": 36,
      "outputs": [
        {
          "output_type": "stream",
          "name": "stdout",
          "text": [
            "Earliest article date: 2023-01-17 00:00:00\n",
            "Latest article date: 2025-03-10 00:00:00\n"
          ]
        },
        {
          "output_type": "display_data",
          "data": {
            "text/plain": [
              "<Figure size 1200x500 with 1 Axes>"
            ],
            "image/png": "[encoded data removed]"
          },
          "metadata": {}
        }
      ]
    },
    {
      "cell_type": "markdown",
      "source": [
        "Category Mapping"
      ],
      "metadata": {
        "id": "GdHkd-RQQa0b"
      }
    },
    {
      "cell_type": "code",
      "source": [
        "category_mapping = {\n",
        "    \"Nation\": \"Nation\",\n",
        "    \"Business\": \"Business\",\n",
        "    \"Sports\": \"Sports\",\n",
        "    \"General\": \"General\",\n",
        "    \"News\": \"General\",\n",
        "    \"BBC Verify\": \"General\",\n",
        "    \"BBC InDepth\": \"General\",\n",
        "    \"In Pictures\": \"General\",\n",
        "    \"Israel-Gaza War\": \"World News\",\n",
        "    \"War in Ukraine\": \"World News\",\n",
        "    \"US & Canada\": \"World News\",\n",
        "    \"UK\": \"World News\",\n",
        "    \"Europe\": \"World News\",\n",
        "    \"Middle East\": \"World News\",\n",
        "    \"Africa\": \"World News\",\n",
        "    \"Asia\": \"World News\",\n",
        "    \"Australia\": \"World News\",\n",
        "    \"Latin America\": \"World News\"\n",
        "}\n",
        "\n",
        "# Apply category mapping to df_date\n",
        "df_date[\"category\"] = df_date[\"category\"].replace(category_mapping)\n",
        "\n",
        "# Save the updated DataFrame to CSV\n",
        "df_date.to_csv(\"news_date.csv\", index=False)\n",
        "\n",
        "# Count new category distribution\n",
        "print(df_date[\"category\"].value_counts())"
      ],
      "metadata": {
        "colab": {
          "base_uri": "https://localhost:8080/"
        },
        "id": "1KqB9dAUQZ6F",
        "outputId": "a6cb4f27-74bb-4b1c-e723-59f2581fc251"
      },
      "execution_count": 39,
      "outputs": [
        {
          "output_type": "stream",
          "name": "stdout",
          "text": [
            "category\n",
            "World News    324\n",
            "Nation        278\n",
            "General       242\n",
            "Business      202\n",
            "Sports        126\n",
            "Name: count, dtype: int64\n"
          ]
        }
      ]
    },
    {
      "cell_type": "code",
      "source": [
        "plt.figure(figsize=(10, 5))\n",
        "sns.countplot(y=df_date[\"category\"], order=df_date[\"category\"].value_counts().index, palette=\"Set2\")\n",
        "plt.title(\"Number of Articles per Consolidated Category\")\n",
        "plt.xlabel(\"Count\")\n",
        "plt.ylabel(\"Category\")\n",
        "plt.show()"
      ],
      "metadata": {
        "colab": {
          "base_uri": "https://localhost:8080/",
          "height": 526
        },
        "id": "C5-DL1BnRJ6t",
        "outputId": "7e85081c-b4ed-4cc5-9a55-38c549bab49f"
      },
      "execution_count": 41,
      "outputs": [
        {
          "output_type": "stream",
          "name": "stderr",
          "text": [
            "<ipython-input-41-cc92cf4ab411>:2: FutureWarning: \n",
            "\n",
            "Passing `palette` without assigning `hue` is deprecated and will be removed in v0.14.0. Assign the `y` variable to `hue` and set `legend=False` for the same effect.\n",
            "\n",
            "  sns.countplot(y=df_date[\"category\"], order=df_date[\"category\"].value_counts().index, palette=\"Set2\")\n"
          ]
        },
        {
          "output_type": "display_data",
          "data": {
            "text/plain": [
              "<Figure size 1000x500 with 1 Axes>"
            ],
            "image/png": "[encoded data removed]"
          },
          "metadata": {}
        }
      ]
    },
    {
      "cell_type": "markdown",
      "source": [
        "Convert the preprocessed text into numerical vectors"
      ],
      "metadata": {
        "id": "bEL2YeVkSIvL"
      }
    },
    {
      "cell_type": "code",
      "source": [
        "# Initialize TF-IDF Vectorizer\n",
        "tfidf_vectorizer = TfidfVectorizer(max_features=5000, stop_words='english')\n",
        "\n",
        "# Fit and transform the text data\n",
        "tfidf_matrix = tfidf_vectorizer.fit_transform(df_date[\"article_content\"])\n",
        "\n",
        "# Convert to DataFrame for analysis\n",
        "tfidf_df = pd.DataFrame(tfidf_matrix.toarray(), columns=tfidf_vectorizer.get_feature_names_out())\n",
        "\n",
        "print(tfidf_df.head())  # View sample vectorized features"
      ],
      "metadata": {
        "colab": {
          "base_uri": "https://localhost:8080/"
        },
        "id": "UtYceVOjRS3X",
        "outputId": "44147ea7-3b80-4ba9-e0d0-20049582d5e6"
      },
      "execution_count": 42,
      "outputs": [
        {
          "output_type": "stream",
          "name": "stdout",
          "text": [
            "   000  000m   05   10  107  109   11  110   12  122  ...  zambry  zamri  \\\n",
            "0  0.0   0.0  0.0  0.0  0.0  0.0  0.0  0.0  0.0  0.0  ...     0.0    0.0   \n",
            "1  0.0   0.0  0.0  0.0  0.0  0.0  0.0  0.0  0.0  0.0  ...     0.0    0.0   \n",
            "2  0.0   0.0  0.0  0.0  0.0  0.0  0.0  0.0  0.0  0.0  ...     0.0    0.0   \n",
            "3  0.0   0.0  0.0  0.0  0.0  0.0  0.0  0.0  0.0  0.0  ...     0.0    0.0   \n",
            "4  0.0   0.0  0.0  0.0  0.0  0.0  0.0  0.0  0.0  0.0  ...     0.0    0.0   \n",
            "\n",
            "   zarith  zealand  zelensky  zelenskyy  zero  zoe  zone   zs  \n",
            "0     0.0      0.0       0.0        0.0   0.0  0.0   0.0  0.0  \n",
            "1     0.0      0.0       0.0        0.0   0.0  0.0   0.0  0.0  \n",
            "2     0.0      0.0       0.0        0.0   0.0  0.0   0.0  0.0  \n",
            "3     0.0      0.0       0.0        0.0   0.0  0.0   0.0  0.0  \n",
            "4     0.0      0.0       0.0        0.0   0.0  0.0   0.0  0.0  \n",
            "\n",
            "[5 rows x 3996 columns]\n"
          ]
        }
      ]
    },
    {
      "cell_type": "code",
      "source": [
        "from sklearn.model_selection import train_test_split\n",
        "\n",
        "# Assume df['category'] is the target variable and df['article_content'] contains the news text\n",
        "X = df_date['article_content']\n",
        "y = df_date['category']\n",
        "\n",
        "# Train-test split (80-20)\n",
        "X_train, X_test, y_train, y_test = train_test_split(X, y, test_size=0.2, stratify=y, random_state=42)"
      ],
      "metadata": {
        "id": "ryOVLzI2SLCS"
      },
      "execution_count": 43,
      "outputs": []
    },
    {
      "cell_type": "code",
      "source": [
        "from sklearn.feature_extraction.text import TfidfVectorizer\n",
        "from sklearn.linear_model import LogisticRegression\n",
        "from sklearn.pipeline import Pipeline\n",
        "\n",
        "# Define a pipeline with TF-IDF and Logistic Regression\n",
        "model_pipeline = Pipeline([\n",
        "    (\"tfidf\", TfidfVectorizer(max_features=5000, stop_words=\"english\")),\n",
        "    (\"classifier\", LogisticRegression(multi_class=\"ovr\", solver=\"liblinear\"))\n",
        "])\n",
        "\n",
        "# Train the model\n",
        "model_pipeline.fit(X_train, y_train)"
      ],
      "metadata": {
        "colab": {
          "base_uri": "https://localhost:8080/",
          "height": 212
        },
        "id": "vqthk6akSbZV",
        "outputId": "69aff185-aba1-46cf-9567-77b302ba4399"
      },
      "execution_count": 44,
      "outputs": [
        {
          "output_type": "stream",
          "name": "stderr",
          "text": [
            "/usr/local/lib/python3.11/dist-packages/sklearn/linear_model/_logistic.py:1256: FutureWarning: 'multi_class' was deprecated in version 1.5 and will be removed in 1.7. Use OneVsRestClassifier(LogisticRegression(..)) instead. Leave it to its default value to avoid this warning.\n",
            "  warnings.warn(\n"
          ]
        },
        {
          "output_type": "execute_result",
          "data": {
            "text/plain": [
              "Pipeline(steps=[('tfidf',\n",
              "                 TfidfVectorizer(max_features=5000, stop_words='english')),\n",
              "                ('classifier',\n",
              "                 LogisticRegression(multi_class='ovr', solver='liblinear'))])"
            ],
            "text/html": [
              "<style>#sk-container-id-1 {\n",
              "  /* Definition of color scheme common for light and dark mode */\n",
              "  --sklearn-color-text: #000;\n",
              "  --sklearn-color-text-muted: #666;\n",
              "  --sklearn-color-line: gray;\n",
              "  /* Definition of color scheme for unfitted estimators */\n",
              "  --sklearn-color-unfitted-level-0: #fff5e6;\n",
              "  --sklearn-color-unfitted-level-1: #f6e4d2;\n",
              "  --sklearn-color-unfitted-level-2: #ffe0b3;\n",
              "  --sklearn-color-unfitted-level-3: chocolate;\n",
              "  /* Definition of color scheme for fitted estimators */\n",
              "  --sklearn-color-fitted-level-0: #f0f8ff;\n",
              "  --sklearn-color-fitted-level-1: #d4ebff;\n",
              "  --sklearn-color-fitted-level-2: #b3dbfd;\n",
              "  --sklearn-color-fitted-level-3: cornflowerblue;\n",
              "\n",
              "  /* Specific color for light theme */\n",
              "  --sklearn-color-text-on-default-background: var(--sg-text-color, var(--theme-code-foreground, var(--jp-content-font-color1, black)));\n",
              "  --sklearn-color-background: var(--sg-background-color, var(--theme-background, var(--jp-layout-color0, white)));\n",
              "  --sklearn-color-border-box: var(--sg-text-color, var(--theme-code-foreground, var(--jp-content-font-color1, black)));\n",
              "  --sklearn-color-icon: #696969;\n",
              "\n",
              "  @media (prefers-color-scheme: dark) {\n",
              "    /* Redefinition of color scheme for dark theme */\n",
              "    --sklearn-color-text-on-default-background: var(--sg-text-color, var(--theme-code-foreground, var(--jp-content-font-color1, white)));\n",
              "    --sklearn-color-background: var(--sg-background-color, var(--theme-background, var(--jp-layout-color0, #111)));\n",
              "    --sklearn-color-border-box: var(--sg-text-color, var(--theme-code-foreground, var(--jp-content-font-color1, white)));\n",
              "    --sklearn-color-icon: #878787;\n",
              "  }\n",
              "}\n",
              "\n",
              "#sk-container-id-1 {\n",
              "  color: var(--sklearn-color-text);\n",
              "}\n",
              "\n",
              "#sk-container-id-1 pre {\n",
              "  padding: 0;\n",
              "}\n",
              "\n",
              "#sk-container-id-1 input.sk-hidden--visually {\n",
              "  border: 0;\n",
              "  clip: rect(1px 1px 1px 1px);\n",
              "  clip: rect(1px, 1px, 1px, 1px);\n",
              "  height: 1px;\n",
              "  margin: -1px;\n",
              "  overflow: hidden;\n",
              "  padding: 0;\n",
              "  position: absolute;\n",
              "  width: 1px;\n",
              "}\n",
              "\n",
              "#sk-container-id-1 div.sk-dashed-wrapped {\n",
              "  border: 1px dashed var(--sklearn-color-line);\n",
              "  margin: 0 0.4em 0.5em 0.4em;\n",
              "  box-sizing: border-box;\n",
              "  padding-bottom: 0.4em;\n",
              "  background-color: var(--sklearn-color-background);\n",
              "}\n",
              "\n",
              "#sk-container-id-1 div.sk-container {\n",
              "  /* jupyter's `normalize.less` sets `[hidden] { display: none; }`\n",
              "     but bootstrap.min.css set `[hidden] { display: none !important; }`\n",
              "     so we also need the `!important` here to be able to override the\n",
              "     default hidden behavior on the sphinx rendered scikit-learn.org.\n",
              "     See: https://github.com/scikit-learn/scikit-learn/issues/21755 */\n",
              "  display: inline-block !important;\n",
              "  position: relative;\n",
              "}\n",
              "\n",
              "#sk-container-id-1 div.sk-text-repr-fallback {\n",
              "  display: none;\n",
              "}\n",
              "\n",
              "div.sk-parallel-item,\n",
              "div.sk-serial,\n",
              "div.sk-item {\n",
              "  /* draw centered vertical line to link estimators */\n",
              "  background-image: linear-gradient(var(--sklearn-color-text-on-default-background), var(--sklearn-color-text-on-default-background));\n",
              "  background-size: 2px 100%;\n",
              "  background-repeat: no-repeat;\n",
              "  background-position: center center;\n",
              "}\n",
              "\n",
              "/* Parallel-specific style estimator block */\n",
              "\n",
              "#sk-container-id-1 div.sk-parallel-item::after {\n",
              "  content: \"\";\n",
              "  width: 100%;\n",
              "  border-bottom: 2px solid var(--sklearn-color-text-on-default-background);\n",
              "  flex-grow: 1;\n",
              "}\n",
              "\n",
              "#sk-container-id-1 div.sk-parallel {\n",
              "  display: flex;\n",
              "  align-items: stretch;\n",
              "  justify-content: center;\n",
              "  background-color: var(--sklearn-color-background);\n",
              "  position: relative;\n",
              "}\n",
              "\n",
              "#sk-container-id-1 div.sk-parallel-item {\n",
              "  display: flex;\n",
              "  flex-direction: column;\n",
              "}\n",
              "\n",
              "#sk-container-id-1 div.sk-parallel-item:first-child::after {\n",
              "  align-self: flex-end;\n",
              "  width: 50%;\n",
              "}\n",
              "\n",
              "#sk-container-id-1 div.sk-parallel-item:last-child::after {\n",
              "  align-self: flex-start;\n",
              "  width: 50%;\n",
              "}\n",
              "\n",
              "#sk-container-id-1 div.sk-parallel-item:only-child::after {\n",
              "  width: 0;\n",
              "}\n",
              "\n",
              "/* Serial-specific style estimator block */\n",
              "\n",
              "#sk-container-id-1 div.sk-serial {\n",
              "  display: flex;\n",
              "  flex-direction: column;\n",
              "  align-items: center;\n",
              "  background-color: var(--sklearn-color-background);\n",
              "  padding-right: 1em;\n",
              "  padding-left: 1em;\n",
              "}\n",
              "\n",
              "\n",
              "/* Toggleable style: style used for estimator/Pipeline/ColumnTransformer box that is\n",
              "clickable and can be expanded/collapsed.\n",
              "- Pipeline and ColumnTransformer use this feature and define the default style\n",
              "- Estimators will overwrite some part of the style using the `sk-estimator` class\n",
              "*/\n",
              "\n",
              "/* Pipeline and ColumnTransformer style (default) */\n",
              "\n",
              "#sk-container-id-1 div.sk-toggleable {\n",
              "  /* Default theme specific background. It is overwritten whether we have a\n",
              "  specific estimator or a Pipeline/ColumnTransformer */\n",
              "  background-color: var(--sklearn-color-background);\n",
              "}\n",
              "\n",
              "/* Toggleable label */\n",
              "#sk-container-id-1 label.sk-toggleable__label {\n",
              "  cursor: pointer;\n",
              "  display: flex;\n",
              "  width: 100%;\n",
              "  margin-bottom: 0;\n",
              "  padding: 0.5em;\n",
              "  box-sizing: border-box;\n",
              "  text-align: center;\n",
              "  align-items: start;\n",
              "  justify-content: space-between;\n",
              "  gap: 0.5em;\n",
              "}\n",
              "\n",
              "#sk-container-id-1 label.sk-toggleable__label .caption {\n",
              "  font-size: 0.6rem;\n",
              "  font-weight: lighter;\n",
              "  color: var(--sklearn-color-text-muted);\n",
              "}\n",
              "\n",
              "#sk-container-id-1 label.sk-toggleable__label-arrow:before {\n",
              "  /* Arrow on the left of the label */\n",
              "  content: \"▸\";\n",
              "  float: left;\n",
              "  margin-right: 0.25em;\n",
              "  color: var(--sklearn-color-icon);\n",
              "}\n",
              "\n",
              "#sk-container-id-1 label.sk-toggleable__label-arrow:hover:before {\n",
              "  color: var(--sklearn-color-text);\n",
              "}\n",
              "\n",
              "/* Toggleable content - dropdown */\n",
              "\n",
              "#sk-container-id-1 div.sk-toggleable__content {\n",
              "  max-height: 0;\n",
              "  max-width: 0;\n",
              "  overflow: hidden;\n",
              "  text-align: left;\n",
              "  /* unfitted */\n",
              "  background-color: var(--sklearn-color-unfitted-level-0);\n",
              "}\n",
              "\n",
              "#sk-container-id-1 div.sk-toggleable__content.fitted {\n",
              "  /* fitted */\n",
              "  background-color: var(--sklearn-color-fitted-level-0);\n",
              "}\n",
              "\n",
              "#sk-container-id-1 div.sk-toggleable__content pre {\n",
              "  margin: 0.2em;\n",
              "  border-radius: 0.25em;\n",
              "  color: var(--sklearn-color-text);\n",
              "  /* unfitted */\n",
              "  background-color: var(--sklearn-color-unfitted-level-0);\n",
              "}\n",
              "\n",
              "#sk-container-id-1 div.sk-toggleable__content.fitted pre {\n",
              "  /* unfitted */\n",
              "  background-color: var(--sklearn-color-fitted-level-0);\n",
              "}\n",
              "\n",
              "#sk-container-id-1 input.sk-toggleable__control:checked~div.sk-toggleable__content {\n",
              "  /* Expand drop-down */\n",
              "  max-height: 200px;\n",
              "  max-width: 100%;\n",
              "  overflow: auto;\n",
              "}\n",
              "\n",
              "#sk-container-id-1 input.sk-toggleable__control:checked~label.sk-toggleable__label-arrow:before {\n",
              "  content: \"▾\";\n",
              "}\n",
              "\n",
              "/* Pipeline/ColumnTransformer-specific style */\n",
              "\n",
              "#sk-container-id-1 div.sk-label input.sk-toggleable__control:checked~label.sk-toggleable__label {\n",
              "  color: var(--sklearn-color-text);\n",
              "  background-color: var(--sklearn-color-unfitted-level-2);\n",
              "}\n",
              "\n",
              "#sk-container-id-1 div.sk-label.fitted input.sk-toggleable__control:checked~label.sk-toggleable__label {\n",
              "  background-color: var(--sklearn-color-fitted-level-2);\n",
              "}\n",
              "\n",
              "/* Estimator-specific style */\n",
              "\n",
              "/* Colorize estimator box */\n",
              "#sk-container-id-1 div.sk-estimator input.sk-toggleable__control:checked~label.sk-toggleable__label {\n",
              "  /* unfitted */\n",
              "  background-color: var(--sklearn-color-unfitted-level-2);\n",
              "}\n",
              "\n",
              "#sk-container-id-1 div.sk-estimator.fitted input.sk-toggleable__control:checked~label.sk-toggleable__label {\n",
              "  /* fitted */\n",
              "  background-color: var(--sklearn-color-fitted-level-2);\n",
              "}\n",
              "\n",
              "#sk-container-id-1 div.sk-label label.sk-toggleable__label,\n",
              "#sk-container-id-1 div.sk-label label {\n",
              "  /* The background is the default theme color */\n",
              "  color: var(--sklearn-color-text-on-default-background);\n",
              "}\n",
              "\n",
              "/* On hover, darken the color of the background */\n",
              "#sk-container-id-1 div.sk-label:hover label.sk-toggleable__label {\n",
              "  color: var(--sklearn-color-text);\n",
              "  background-color: var(--sklearn-color-unfitted-level-2);\n",
              "}\n",
              "\n",
              "/* Label box, darken color on hover, fitted */\n",
              "#sk-container-id-1 div.sk-label.fitted:hover label.sk-toggleable__label.fitted {\n",
              "  color: var(--sklearn-color-text);\n",
              "  background-color: var(--sklearn-color-fitted-level-2);\n",
              "}\n",
              "\n",
              "/* Estimator label */\n",
              "\n",
              "#sk-container-id-1 div.sk-label label {\n",
              "  font-family: monospace;\n",
              "  font-weight: bold;\n",
              "  display: inline-block;\n",
              "  line-height: 1.2em;\n",
              "}\n",
              "\n",
              "#sk-container-id-1 div.sk-label-container {\n",
              "  text-align: center;\n",
              "}\n",
              "\n",
              "/* Estimator-specific */\n",
              "#sk-container-id-1 div.sk-estimator {\n",
              "  font-family: monospace;\n",
              "  border: 1px dotted var(--sklearn-color-border-box);\n",
              "  border-radius: 0.25em;\n",
              "  box-sizing: border-box;\n",
              "  margin-bottom: 0.5em;\n",
              "  /* unfitted */\n",
              "  background-color: var(--sklearn-color-unfitted-level-0);\n",
              "}\n",
              "\n",
              "#sk-container-id-1 div.sk-estimator.fitted {\n",
              "  /* fitted */\n",
              "  background-color: var(--sklearn-color-fitted-level-0);\n",
              "}\n",
              "\n",
              "/* on hover */\n",
              "#sk-container-id-1 div.sk-estimator:hover {\n",
              "  /* unfitted */\n",
              "  background-color: var(--sklearn-color-unfitted-level-2);\n",
              "}\n",
              "\n",
              "#sk-container-id-1 div.sk-estimator.fitted:hover {\n",
              "  /* fitted */\n",
              "  background-color: var(--sklearn-color-fitted-level-2);\n",
              "}\n",
              "\n",
              "/* Specification for estimator info (e.g. \"i\" and \"?\") */\n",
              "\n",
              "/* Common style for \"i\" and \"?\" */\n",
              "\n",
              ".sk-estimator-doc-link,\n",
              "a:link.sk-estimator-doc-link,\n",
              "a:visited.sk-estimator-doc-link {\n",
              "  float: right;\n",
              "  font-size: smaller;\n",
              "  line-height: 1em;\n",
              "  font-family: monospace;\n",
              "  background-color: var(--sklearn-color-background);\n",
              "  border-radius: 1em;\n",
              "  height: 1em;\n",
              "  width: 1em;\n",
              "  text-decoration: none !important;\n",
              "  margin-left: 0.5em;\n",
              "  text-align: center;\n",
              "  /* unfitted */\n",
              "  border: var(--sklearn-color-unfitted-level-1) 1pt solid;\n",
              "  color: var(--sklearn-color-unfitted-level-1);\n",
              "}\n",
              "\n",
              ".sk-estimator-doc-link.fitted,\n",
              "a:link.sk-estimator-doc-link.fitted,\n",
              "a:visited.sk-estimator-doc-link.fitted {\n",
              "  /* fitted */\n",
              "  border: var(--sklearn-color-fitted-level-1) 1pt solid;\n",
              "  color: var(--sklearn-color-fitted-level-1);\n",
              "}\n",
              "\n",
              "/* On hover */\n",
              "div.sk-estimator:hover .sk-estimator-doc-link:hover,\n",
              ".sk-estimator-doc-link:hover,\n",
              "div.sk-label-container:hover .sk-estimator-doc-link:hover,\n",
              ".sk-estimator-doc-link:hover {\n",
              "  /* unfitted */\n",
              "  background-color: var(--sklearn-color-unfitted-level-3);\n",
              "  color: var(--sklearn-color-background);\n",
              "  text-decoration: none;\n",
              "}\n",
              "\n",
              "div.sk-estimator.fitted:hover .sk-estimator-doc-link.fitted:hover,\n",
              ".sk-estimator-doc-link.fitted:hover,\n",
              "div.sk-label-container:hover .sk-estimator-doc-link.fitted:hover,\n",
              ".sk-estimator-doc-link.fitted:hover {\n",
              "  /* fitted */\n",
              "  background-color: var(--sklearn-color-fitted-level-3);\n",
              "  color: var(--sklearn-color-background);\n",
              "  text-decoration: none;\n",
              "}\n",
              "\n",
              "/* Span, style for the box shown on hovering the info icon */\n",
              ".sk-estimator-doc-link span {\n",
              "  display: none;\n",
              "  z-index: 9999;\n",
              "  position: relative;\n",
              "  font-weight: normal;\n",
              "  right: .2ex;\n",
              "  padding: .5ex;\n",
              "  margin: .5ex;\n",
              "  width: min-content;\n",
              "  min-width: 20ex;\n",
              "  max-width: 50ex;\n",
              "  color: var(--sklearn-color-text);\n",
              "  box-shadow: 2pt 2pt 4pt #999;\n",
              "  /* unfitted */\n",
              "  background: var(--sklearn-color-unfitted-level-0);\n",
              "  border: .5pt solid var(--sklearn-color-unfitted-level-3);\n",
              "}\n",
              "\n",
              ".sk-estimator-doc-link.fitted span {\n",
              "  /* fitted */\n",
              "  background: var(--sklearn-color-fitted-level-0);\n",
              "  border: var(--sklearn-color-fitted-level-3);\n",
              "}\n",
              "\n",
              ".sk-estimator-doc-link:hover span {\n",
              "  display: block;\n",
              "}\n",
              "\n",
              "/* \"?\"-specific style due to the `<a>` HTML tag */\n",
              "\n",
              "#sk-container-id-1 a.estimator_doc_link {\n",
              "  float: right;\n",
              "  font-size: 1rem;\n",
              "  line-height: 1em;\n",
              "  font-family: monospace;\n",
              "  background-color: var(--sklearn-color-background);\n",
              "  border-radius: 1rem;\n",
              "  height: 1rem;\n",
              "  width: 1rem;\n",
              "  text-decoration: none;\n",
              "  /* unfitted */\n",
              "  color: var(--sklearn-color-unfitted-level-1);\n",
              "  border: var(--sklearn-color-unfitted-level-1) 1pt solid;\n",
              "}\n",
              "\n",
              "#sk-container-id-1 a.estimator_doc_link.fitted {\n",
              "  /* fitted */\n",
              "  border: var(--sklearn-color-fitted-level-1) 1pt solid;\n",
              "  color: var(--sklearn-color-fitted-level-1);\n",
              "}\n",
              "\n",
              "/* On hover */\n",
              "#sk-container-id-1 a.estimator_doc_link:hover {\n",
              "  /* unfitted */\n",
              "  background-color: var(--sklearn-color-unfitted-level-3);\n",
              "  color: var(--sklearn-color-background);\n",
              "  text-decoration: none;\n",
              "}\n",
              "\n",
              "#sk-container-id-1 a.estimator_doc_link.fitted:hover {\n",
              "  /* fitted */\n",
              "  background-color: var(--sklearn-color-fitted-level-3);\n",
              "}\n",
              "</style><div id=\"sk-container-id-1\" class=\"sk-top-container\"><div class=\"sk-text-repr-fallback\"><pre>Pipeline(steps=[(&#x27;tfidf&#x27;,\n",
              "                 TfidfVectorizer(max_features=5000, stop_words=&#x27;english&#x27;)),\n",
              "                (&#x27;classifier&#x27;,\n",
              "                 LogisticRegression(multi_class=&#x27;ovr&#x27;, solver=&#x27;liblinear&#x27;))])</pre><b>In a Jupyter environment, please rerun this cell to show the HTML representation or trust the notebook. <br />On GitHub, the HTML representation is unable to render, please try loading this page with nbviewer.org.</b></div><div class=\"sk-container\" hidden><div class=\"sk-item sk-dashed-wrapped\"><div class=\"sk-label-container\"><div class=\"sk-label fitted sk-toggleable\"><input class=\"sk-toggleable__control sk-hidden--visually\" id=\"sk-estimator-id-1\" type=\"checkbox\" ><label for=\"sk-estimator-id-1\" class=\"sk-toggleable__label fitted sk-toggleable__label-arrow\"><div><div>Pipeline</div></div><div><a class=\"sk-estimator-doc-link fitted\" rel=\"noreferrer\" target=\"_blank\" href=\"https://scikit-learn.org/1.6/modules/generated/sklearn.pipeline.Pipeline.html\">?<span>Documentation for Pipeline</span></a><span class=\"sk-estimator-doc-link fitted\">i<span>Fitted</span></span></div></label><div class=\"sk-toggleable__content fitted\"><pre>Pipeline(steps=[(&#x27;tfidf&#x27;,\n",
              "                 TfidfVectorizer(max_features=5000, stop_words=&#x27;english&#x27;)),\n",
              "                (&#x27;classifier&#x27;,\n",
              "                 LogisticRegression(multi_class=&#x27;ovr&#x27;, solver=&#x27;liblinear&#x27;))])</pre></div> </div></div><div class=\"sk-serial\"><div class=\"sk-item\"><div class=\"sk-estimator fitted sk-toggleable\"><input class=\"sk-toggleable__control sk-hidden--visually\" id=\"sk-estimator-id-2\" type=\"checkbox\" ><label for=\"sk-estimator-id-2\" class=\"sk-toggleable__label fitted sk-toggleable__label-arrow\"><div><div>TfidfVectorizer</div></div><div><a class=\"sk-estimator-doc-link fitted\" rel=\"noreferrer\" target=\"_blank\" href=\"https://scikit-learn.org/1.6/modules/generated/sklearn.feature_extraction.text.TfidfVectorizer.html\">?<span>Documentation for TfidfVectorizer</span></a></div></label><div class=\"sk-toggleable__content fitted\"><pre>TfidfVectorizer(max_features=5000, stop_words=&#x27;english&#x27;)</pre></div> </div></div><div class=\"sk-item\"><div class=\"sk-estimator fitted sk-toggleable\"><input class=\"sk-toggleable__control sk-hidden--visually\" id=\"sk-estimator-id-3\" type=\"checkbox\" ><label for=\"sk-estimator-id-3\" class=\"sk-toggleable__label fitted sk-toggleable__label-arrow\"><div><div>LogisticRegression</div></div><div><a class=\"sk-estimator-doc-link fitted\" rel=\"noreferrer\" target=\"_blank\" href=\"https://scikit-learn.org/1.6/modules/generated/sklearn.linear_model.LogisticRegression.html\">?<span>Documentation for LogisticRegression</span></a></div></label><div class=\"sk-toggleable__content fitted\"><pre>LogisticRegression(multi_class=&#x27;ovr&#x27;, solver=&#x27;liblinear&#x27;)</pre></div> </div></div></div></div></div></div>"
            ]
          },
          "metadata": {},
          "execution_count": 44
        }
      ]
    },
    {
      "cell_type": "code",
      "source": [
        "from sklearn.metrics import classification_report\n",
        "\n",
        "# Make predictions\n",
        "y_pred = model_pipeline.predict(X_test)\n",
        "\n",
        "# Evaluate the model\n",
        "print(classification_report(y_test, y_pred))"
      ],
      "metadata": {
        "colab": {
          "base_uri": "https://localhost:8080/"
        },
        "id": "wJwqVV_tSfhg",
        "outputId": "17cc1efd-1fff-48d2-9a64-dacc1eb63e73"
      },
      "execution_count": 45,
      "outputs": [
        {
          "output_type": "stream",
          "name": "stdout",
          "text": [
            "              precision    recall  f1-score   support\n",
            "\n",
            "    Business       1.00      0.88      0.93        40\n",
            "     General       0.54      0.27      0.36        49\n",
            "      Nation       0.86      0.88      0.87        56\n",
            "      Sports       0.94      0.60      0.73        25\n",
            "  World News       0.55      0.88      0.68        65\n",
            "\n",
            "    accuracy                           0.72       235\n",
            "   macro avg       0.78      0.70      0.71       235\n",
            "weighted avg       0.74      0.72      0.71       235\n",
            "\n"
          ]
        }
      ]
    },
    {
      "cell_type": "markdown",
      "source": [
        "Word2Vec"
      ],
      "metadata": {
        "id": "WwkePV2-TbAY"
      }
    },
    {
      "cell_type": "code",
      "source": [
        "import pandas as pd\n",
        "import numpy as np\n",
        "import re\n",
        "import nltk\n",
        "import gensim\n",
        "from gensim.models import Word2Vec\n",
        "from nltk.tokenize import word_tokenize\n",
        "from nltk.corpus import stopwords\n",
        "from sklearn.model_selection import train_test_split\n",
        "from sklearn.ensemble import RandomForestClassifier\n",
        "from sklearn.metrics import classification_report\n",
        "\n",
        "# Download NLTK resources if not done\n",
        "nltk.download(\"punkt\")\n",
        "nltk.download(\"punkt_tab\")\n",
        "nltk.download(\"stopwords\")\n",
        "\n",
        "# Load your dataset\n",
        "df_date = pd.read_csv(\"news_date.csv\")  # Ensure your dataset has \"category\" and \"article_content\"\n",
        "\n",
        "# Preprocessing function\n",
        "stop_words = set(stopwords.words(\"english\"))\n",
        "\n",
        "def preprocess_text(text):\n",
        "    text = text.lower()  # Lowercase\n",
        "    text = re.sub(r'\\W', ' ', text)  # Remove special characters\n",
        "    words = word_tokenize(text)  # Tokenize\n",
        "    words = [word for word in words if word not in stop_words]  # Remove stopwords\n",
        "    return words\n",
        "\n",
        "# Apply preprocessing\n",
        "df_date[\"tokens\"] = df_date[\"article_content\"].astype(str).apply(preprocess_text)"
      ],
      "metadata": {
        "colab": {
          "base_uri": "https://localhost:8080/"
        },
        "id": "KH2J_1ttTZxi",
        "outputId": "d93396af-73b3-4d53-f950-f64d7e67c5c9"
      },
      "execution_count": 46,
      "outputs": [
        {
          "output_type": "stream",
          "name": "stderr",
          "text": [
            "[nltk_data] Downloading package punkt to /root/nltk_data...\n",
            "[nltk_data]   Unzipping tokenizers/punkt.zip.\n",
            "[nltk_data] Downloading package punkt_tab to /root/nltk_data...\n",
            "[nltk_data]   Unzipping tokenizers/punkt_tab.zip.\n",
            "[nltk_data] Downloading package stopwords to /root/nltk_data...\n",
            "[nltk_data]   Unzipping corpora/stopwords.zip.\n"
          ]
        }
      ]
    },
    {
      "cell_type": "code",
      "source": [
        "# Train Word2Vec on tokenized data\n",
        "w2v_model = Word2Vec(sentences=df_date[\"tokens\"], vector_size=100, window=5, min_count=2, workers=4)\n",
        "\n",
        "# Save the trained model\n",
        "w2v_model.save(\"word2vec.model\")"
      ],
      "metadata": {
        "id": "IvOwRrV4WYYc"
      },
      "execution_count": 47,
      "outputs": []
    },
    {
      "cell_type": "code",
      "source": [
        "# Function to get vector representation of a document\n",
        "def get_w2v_vector(tokens, model):\n",
        "    vectors = [model.wv[word] for word in tokens if word in model.wv]\n",
        "    return np.mean(vectors, axis=0) if vectors else np.zeros(model.vector_size)\n",
        "\n",
        "# Convert all articles into vector representations\n",
        "df_date[\"vector\"] = df_date[\"tokens\"].apply(lambda x: get_w2v_vector(x, w2v_model))\n",
        "X = np.vstack(df_date[\"vector\"].values)\n",
        "y = df_date[\"category\"]"
      ],
      "metadata": {
        "id": "DR1sBg1CWgmh"
      },
      "execution_count": 48,
      "outputs": []
    },
    {
      "cell_type": "code",
      "source": [
        "# Split dataset\n",
        "X_train, X_test, y_train, y_test = train_test_split(X, y, test_size=0.2, stratify=y, random_state=42)\n",
        "\n",
        "# Train a classifier (Random Forest)\n",
        "clf = RandomForestClassifier(n_estimators=100, random_state=42)\n",
        "clf.fit(X_train, y_train)\n",
        "\n",
        "# Predictions\n",
        "y_pred = clf.predict(X_test)\n",
        "\n",
        "# Evaluate performance\n",
        "print(classification_report(y_test, y_pred))"
      ],
      "metadata": {
        "colab": {
          "base_uri": "https://localhost:8080/"
        },
        "id": "YbPklJmrWqR6",
        "outputId": "981281fd-0f7c-4c40-aa02-fe36005ba70a"
      },
      "execution_count": 49,
      "outputs": [
        {
          "output_type": "stream",
          "name": "stdout",
          "text": [
            "              precision    recall  f1-score   support\n",
            "\n",
            "    Business       0.92      0.90      0.91        40\n",
            "     General       0.51      0.39      0.44        49\n",
            "      Nation       0.73      0.79      0.76        56\n",
            "      Sports       0.92      0.44      0.59        25\n",
            "  World News       0.51      0.68      0.58        65\n",
            "\n",
            "    accuracy                           0.66       235\n",
            "   macro avg       0.72      0.64      0.66       235\n",
            "weighted avg       0.68      0.66      0.65       235\n",
            "\n"
          ]
        }
      ]
    }
  ]
}